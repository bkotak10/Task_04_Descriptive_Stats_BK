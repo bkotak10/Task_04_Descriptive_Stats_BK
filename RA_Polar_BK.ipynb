{
 "cells": [
  {
   "cell_type": "code",
   "execution_count": 1,
   "id": "3916ef0a-6d46-42c7-b2f2-9e0b295dafd9",
   "metadata": {},
   "outputs": [
    {
     "name": "stdout",
     "output_type": "stream",
     "text": [
      "Collecting polars\n",
      "  Downloading polars-1.31.0-cp39-abi3-macosx_11_0_arm64.whl.metadata (14 kB)\n",
      "Downloading polars-1.31.0-cp39-abi3-macosx_11_0_arm64.whl (31.4 MB)\n",
      "\u001b[2K   \u001b[90m━━━━━━━━━━━━━━━━━━━━━━━━━━━━━━━━━━━━━━━━\u001b[0m \u001b[32m31.4/31.4 MB\u001b[0m \u001b[31m2.9 MB/s\u001b[0m eta \u001b[36m0:00:00\u001b[0m00:01\u001b[0m00:01\u001b[0m\n",
      "\u001b[?25hInstalling collected packages: polars\n",
      "Successfully installed polars-1.31.0\n",
      "Note: you may need to restart the kernel to use updated packages.\n"
     ]
    }
   ],
   "source": [
    "pip install polars"
   ]
  },
  {
   "cell_type": "markdown",
   "id": "552b096b-f9fb-4110-8a6d-ba8770881f58",
   "metadata": {},
   "source": [
    "## Importing the Dataset"
   ]
  },
  {
   "cell_type": "code",
   "execution_count": 2,
   "id": "34dc13e0-b463-49a6-80a0-d5c11175deca",
   "metadata": {},
   "outputs": [
    {
     "data": {
      "text/html": [
       "<div><style>\n",
       ".dataframe > thead > tr,\n",
       ".dataframe > tbody > tr {\n",
       "  text-align: right;\n",
       "  white-space: pre-wrap;\n",
       "}\n",
       "</style>\n",
       "<small>shape: (5, 41)</small><table border=\"1\" class=\"dataframe\"><thead><tr><th>page_id</th><th>ad_id</th><th>ad_creation_time</th><th>bylines</th><th>currency</th><th>delivery_by_region</th><th>demographic_distribution</th><th>estimated_audience_size</th><th>estimated_impressions</th><th>estimated_spend</th><th>publisher_platforms</th><th>illuminating_scored_message</th><th>illuminating_mentions</th><th>scam_illuminating</th><th>election_integrity_Truth_illuminating</th><th>advocacy_msg_type_illuminating</th><th>issue_msg_type_illuminating</th><th>attack_msg_type_illuminating</th><th>image_msg_type_illuminating</th><th>cta_msg_type_illuminating</th><th>engagement_cta_subtype_illuminating</th><th>fundraising_cta_subtype_illuminating</th><th>voting_cta_subtype_illuminating</th><th>covid_topic_illuminating</th><th>economy_topic_illuminating</th><th>education_topic_illuminating</th><th>environment_topic_illuminating</th><th>foreign_policy_topic_illuminating</th><th>governance_topic_illuminating</th><th>health_topic_illuminating</th><th>immigration_topic_illuminating</th><th>lgbtq_issues_topic_illuminating</th><th>military_topic_illuminating</th><th>race_and_ethnicity_topic_illuminating</th><th>safety_topic_illuminating</th><th>social_and_cultural_topic_illuminating</th><th>technology_and_privacy_topic_illuminating</th><th>womens_issue_topic_illuminating</th><th>incivility_illuminating</th><th>freefair_illuminating</th><th>fraud_illuminating</th></tr><tr><td>str</td><td>str</td><td>str</td><td>str</td><td>str</td><td>str</td><td>str</td><td>i64</td><td>i64</td><td>i64</td><td>str</td><td>str</td><td>str</td><td>i64</td><td>i64</td><td>i64</td><td>i64</td><td>i64</td><td>i64</td><td>i64</td><td>i64</td><td>i64</td><td>i64</td><td>i64</td><td>i64</td><td>i64</td><td>i64</td><td>i64</td><td>i64</td><td>i64</td><td>i64</td><td>i64</td><td>i64</td><td>i64</td><td>i64</td><td>i64</td><td>i64</td><td>i64</td><td>i64</td><td>i64</td><td>i64</td></tr></thead><tbody><tr><td>&quot;4ff23a48b53d988df50ddfebb0e442…</td><td>&quot;0ddb025b8544e2d58e6977ad417e74…</td><td>&quot;2024-10-21&quot;</td><td>&quot;Texas Organizing Project PAC&quot;</td><td>&quot;USD&quot;</td><td>&quot;{&#x27;Texas&#x27;: {&#x27;spend&#x27;: 249, &#x27;impr…</td><td>&quot;{&#x27;female_18-24&#x27;: {&#x27;spend&#x27;: 28,…</td><td>30000</td><td>47499</td><td>249</td><td>&quot;[&#x27;facebook&#x27;, &#x27;instagram&#x27;]&quot;</td><td>&quot;362d68d42e34e070bc9f999033642b…</td><td>&quot;[&#x27;Kamala Harris&#x27;, &#x27;Tim Walz&#x27;]&quot;</td><td>0</td><td>0</td><td>1</td><td>1</td><td>0</td><td>0</td><td>0</td><td>0</td><td>0</td><td>0</td><td>0</td><td>0</td><td>0</td><td>0</td><td>0</td><td>0</td><td>0</td><td>0</td><td>0</td><td>0</td><td>0</td><td>0</td><td>0</td><td>0</td><td>0</td><td>0</td><td>0</td><td>0</td></tr><tr><td>&quot;4ff23a48b53d988df50ddfebb0e442…</td><td>&quot;86229868e6bde3661724fe02da9350…</td><td>&quot;2024-10-18&quot;</td><td>&quot;Texas Organizing Project PAC&quot;</td><td>&quot;USD&quot;</td><td>&quot;{&#x27;Texas&#x27;: {&#x27;spend&#x27;: 49, &#x27;impre…</td><td>&quot;{&#x27;female_18-24&#x27;: {&#x27;spend&#x27;: 8, …</td><td>75000</td><td>22499</td><td>49</td><td>&quot;[&#x27;facebook&#x27;, &#x27;instagram&#x27;]&quot;</td><td>&quot;dc522d5aa4f91c326d105ec4c482cf…</td><td>&quot;[&#x27;Kamala Harris&#x27;, &#x27;Tim Walz&#x27;]&quot;</td><td>0</td><td>0</td><td>1</td><td>1</td><td>0</td><td>0</td><td>1</td><td>0</td><td>0</td><td>1</td><td>0</td><td>0</td><td>1</td><td>0</td><td>0</td><td>0</td><td>0</td><td>0</td><td>0</td><td>0</td><td>0</td><td>0</td><td>0</td><td>0</td><td>0</td><td>0</td><td>0</td><td>0</td></tr><tr><td>&quot;4ff23a48b53d988df50ddfebb0e442…</td><td>&quot;07b5aefc27e872e971f793e49aac38…</td><td>&quot;2024-10-13&quot;</td><td>&quot;Texas Organizing Project PAC&quot;</td><td>&quot;USD&quot;</td><td>&quot;{&#x27;Texas&#x27;: {&#x27;spend&#x27;: 149, &#x27;impr…</td><td>&quot;{&#x27;female_18-24&#x27;: {&#x27;spend&#x27;: 26,…</td><td>75000</td><td>32499</td><td>149</td><td>&quot;[&#x27;facebook&#x27;, &#x27;instagram&#x27;]&quot;</td><td>&quot;6dc61896f4a44cf4fdbe564604bbeb…</td><td>&quot;[&#x27;Kamala Harris&#x27;, &#x27;Tim Walz&#x27;]&quot;</td><td>0</td><td>0</td><td>1</td><td>1</td><td>0</td><td>0</td><td>0</td><td>0</td><td>0</td><td>0</td><td>0</td><td>0</td><td>0</td><td>0</td><td>0</td><td>0</td><td>0</td><td>0</td><td>0</td><td>0</td><td>0</td><td>0</td><td>0</td><td>0</td><td>0</td><td>0</td><td>0</td><td>0</td></tr><tr><td>&quot;b9eb7e353e596d5fc99568d4ef77d4…</td><td>&quot;c62978153c04116d88ead493799168…</td><td>&quot;2024-11-02&quot;</td><td>null</td><td>&quot;USD&quot;</td><td>&quot;{}&quot;</td><td>&quot;{}&quot;</td><td>1000001</td><td>499</td><td>49</td><td>&quot;[&#x27;facebook&#x27;, &#x27;instagram&#x27;, &#x27;aud…</td><td>&quot;5ffb1d89916e779d01193e726cd880…</td><td>&quot;[&#x27;Tim Walz&#x27;]&quot;</td><td>0</td><td>0</td><td>0</td><td>1</td><td>0</td><td>0</td><td>0</td><td>0</td><td>0</td><td>0</td><td>0</td><td>0</td><td>0</td><td>0</td><td>0</td><td>0</td><td>0</td><td>0</td><td>0</td><td>0</td><td>0</td><td>0</td><td>0</td><td>0</td><td>0</td><td>0</td><td>0</td><td>0</td></tr><tr><td>&quot;b9eb7e353e596d5fc99568d4ef77d4…</td><td>&quot;785e91ef18a5794565af03a6df4e70…</td><td>&quot;2024-11-02&quot;</td><td>null</td><td>&quot;USD&quot;</td><td>&quot;{}&quot;</td><td>&quot;{}&quot;</td><td>1000001</td><td>499</td><td>49</td><td>&quot;[&#x27;facebook&#x27;, &#x27;instagram&#x27;, &#x27;aud…</td><td>&quot;b7360494f7dd93ffa2320d88b10a58…</td><td>&quot;[&#x27;Tim Walz&#x27;]&quot;</td><td>0</td><td>0</td><td>0</td><td>1</td><td>1</td><td>1</td><td>0</td><td>0</td><td>0</td><td>0</td><td>0</td><td>0</td><td>0</td><td>0</td><td>0</td><td>0</td><td>0</td><td>0</td><td>0</td><td>0</td><td>0</td><td>0</td><td>0</td><td>0</td><td>0</td><td>0</td><td>0</td><td>0</td></tr></tbody></table></div>"
      ],
      "text/plain": [
       "shape: (5, 41)\n",
       "┌───────────┬───────────┬───────────┬───────────┬───┬───────────┬───────────┬───────────┬──────────┐\n",
       "│ page_id   ┆ ad_id     ┆ ad_creati ┆ bylines   ┆ … ┆ womens_is ┆ incivilit ┆ freefair_ ┆ fraud_il │\n",
       "│ ---       ┆ ---       ┆ on_time   ┆ ---       ┆   ┆ sue_topic ┆ y_illumin ┆ illuminat ┆ luminati │\n",
       "│ str       ┆ str       ┆ ---       ┆ str       ┆   ┆ _illumina ┆ ating     ┆ ing       ┆ ng       │\n",
       "│           ┆           ┆ str       ┆           ┆   ┆ tin…      ┆ ---       ┆ ---       ┆ ---      │\n",
       "│           ┆           ┆           ┆           ┆   ┆ ---       ┆ i64       ┆ i64       ┆ i64      │\n",
       "│           ┆           ┆           ┆           ┆   ┆ i64       ┆           ┆           ┆          │\n",
       "╞═══════════╪═══════════╪═══════════╪═══════════╪═══╪═══════════╪═══════════╪═══════════╪══════════╡\n",
       "│ 4ff23a48b ┆ 0ddb025b8 ┆ 2024-10-2 ┆ Texas Org ┆ … ┆ 0         ┆ 0         ┆ 0         ┆ 0        │\n",
       "│ 53d988df5 ┆ 544e2d58e ┆ 1         ┆ anizing   ┆   ┆           ┆           ┆           ┆          │\n",
       "│ 0ddfebb0e ┆ 6977ad417 ┆           ┆ Project   ┆   ┆           ┆           ┆           ┆          │\n",
       "│ 442…      ┆ e74…      ┆           ┆ PAC       ┆   ┆           ┆           ┆           ┆          │\n",
       "│ 4ff23a48b ┆ 86229868e ┆ 2024-10-1 ┆ Texas Org ┆ … ┆ 0         ┆ 0         ┆ 0         ┆ 0        │\n",
       "│ 53d988df5 ┆ 6bde36617 ┆ 8         ┆ anizing   ┆   ┆           ┆           ┆           ┆          │\n",
       "│ 0ddfebb0e ┆ 24fe02da9 ┆           ┆ Project   ┆   ┆           ┆           ┆           ┆          │\n",
       "│ 442…      ┆ 350…      ┆           ┆ PAC       ┆   ┆           ┆           ┆           ┆          │\n",
       "│ 4ff23a48b ┆ 07b5aefc2 ┆ 2024-10-1 ┆ Texas Org ┆ … ┆ 0         ┆ 0         ┆ 0         ┆ 0        │\n",
       "│ 53d988df5 ┆ 7e872e971 ┆ 3         ┆ anizing   ┆   ┆           ┆           ┆           ┆          │\n",
       "│ 0ddfebb0e ┆ f793e49aa ┆           ┆ Project   ┆   ┆           ┆           ┆           ┆          │\n",
       "│ 442…      ┆ c38…      ┆           ┆ PAC       ┆   ┆           ┆           ┆           ┆          │\n",
       "│ b9eb7e353 ┆ c62978153 ┆ 2024-11-0 ┆ null      ┆ … ┆ 0         ┆ 0         ┆ 0         ┆ 0        │\n",
       "│ e596d5fc9 ┆ c04116d88 ┆ 2         ┆           ┆   ┆           ┆           ┆           ┆          │\n",
       "│ 9568d4ef7 ┆ ead493799 ┆           ┆           ┆   ┆           ┆           ┆           ┆          │\n",
       "│ 7d4…      ┆ 168…      ┆           ┆           ┆   ┆           ┆           ┆           ┆          │\n",
       "│ b9eb7e353 ┆ 785e91ef1 ┆ 2024-11-0 ┆ null      ┆ … ┆ 0         ┆ 0         ┆ 0         ┆ 0        │\n",
       "│ e596d5fc9 ┆ 8a5794565 ┆ 2         ┆           ┆   ┆           ┆           ┆           ┆          │\n",
       "│ 9568d4ef7 ┆ af03a6df4 ┆           ┆           ┆   ┆           ┆           ┆           ┆          │\n",
       "│ 7d4…      ┆ e70…      ┆           ┆           ┆   ┆           ┆           ┆           ┆          │\n",
       "└───────────┴───────────┴───────────┴───────────┴───┴───────────┴───────────┴───────────┴──────────┘"
      ]
     },
     "execution_count": 2,
     "metadata": {},
     "output_type": "execute_result"
    }
   ],
   "source": [
    "import polars as pl\n",
    "\n",
    "# Load your CSV file\n",
    "df_ads = pl.read_csv(\"2024_fb_ads_president_scored_anon.csv\")\n",
    "df_ads.head()"
   ]
  },
  {
   "cell_type": "markdown",
   "id": "13f95de1-86f5-4dd9-b2c7-57d451f06558",
   "metadata": {},
   "source": [
    "## Basic Overview"
   ]
  },
  {
   "cell_type": "code",
   "execution_count": 11,
   "id": "5c48108e-720a-4987-bd80-236bdff6a630",
   "metadata": {},
   "outputs": [
    {
     "data": {
      "text/html": [
       "<div><style>\n",
       ".dataframe > thead > tr,\n",
       ".dataframe > tbody > tr {\n",
       "  text-align: right;\n",
       "  white-space: pre-wrap;\n",
       "}\n",
       "</style>\n",
       "<small>shape: (9, 32)</small><table border=\"1\" class=\"dataframe\"><thead><tr><th>statistic</th><th>estimated_audience_size</th><th>estimated_impressions</th><th>estimated_spend</th><th>scam_illuminating</th><th>election_integrity_Truth_illuminating</th><th>advocacy_msg_type_illuminating</th><th>issue_msg_type_illuminating</th><th>attack_msg_type_illuminating</th><th>image_msg_type_illuminating</th><th>cta_msg_type_illuminating</th><th>engagement_cta_subtype_illuminating</th><th>fundraising_cta_subtype_illuminating</th><th>voting_cta_subtype_illuminating</th><th>covid_topic_illuminating</th><th>economy_topic_illuminating</th><th>education_topic_illuminating</th><th>environment_topic_illuminating</th><th>foreign_policy_topic_illuminating</th><th>governance_topic_illuminating</th><th>health_topic_illuminating</th><th>immigration_topic_illuminating</th><th>lgbtq_issues_topic_illuminating</th><th>military_topic_illuminating</th><th>race_and_ethnicity_topic_illuminating</th><th>safety_topic_illuminating</th><th>social_and_cultural_topic_illuminating</th><th>technology_and_privacy_topic_illuminating</th><th>womens_issue_topic_illuminating</th><th>incivility_illuminating</th><th>freefair_illuminating</th><th>fraud_illuminating</th></tr><tr><td>str</td><td>f64</td><td>f64</td><td>f64</td><td>f64</td><td>f64</td><td>f64</td><td>f64</td><td>f64</td><td>f64</td><td>f64</td><td>f64</td><td>f64</td><td>f64</td><td>f64</td><td>f64</td><td>f64</td><td>f64</td><td>f64</td><td>f64</td><td>f64</td><td>f64</td><td>f64</td><td>f64</td><td>f64</td><td>f64</td><td>f64</td><td>f64</td><td>f64</td><td>f64</td><td>f64</td><td>f64</td></tr></thead><tbody><tr><td>&quot;count&quot;</td><td>246745.0</td><td>246745.0</td><td>246745.0</td><td>246745.0</td><td>246745.0</td><td>246745.0</td><td>246745.0</td><td>246745.0</td><td>246745.0</td><td>246745.0</td><td>246745.0</td><td>246745.0</td><td>246745.0</td><td>246745.0</td><td>246745.0</td><td>246745.0</td><td>246745.0</td><td>246745.0</td><td>246745.0</td><td>246745.0</td><td>246745.0</td><td>246745.0</td><td>246745.0</td><td>246745.0</td><td>246745.0</td><td>246745.0</td><td>246745.0</td><td>246745.0</td><td>246745.0</td><td>246745.0</td><td>246745.0</td></tr><tr><td>&quot;null_count&quot;</td><td>0.0</td><td>0.0</td><td>0.0</td><td>0.0</td><td>0.0</td><td>0.0</td><td>0.0</td><td>0.0</td><td>0.0</td><td>0.0</td><td>0.0</td><td>0.0</td><td>0.0</td><td>0.0</td><td>0.0</td><td>0.0</td><td>0.0</td><td>0.0</td><td>0.0</td><td>0.0</td><td>0.0</td><td>0.0</td><td>0.0</td><td>0.0</td><td>0.0</td><td>0.0</td><td>0.0</td><td>0.0</td><td>0.0</td><td>0.0</td><td>0.0</td></tr><tr><td>&quot;mean&quot;</td><td>556462.855969</td><td>45601.525952</td><td>1061.291434</td><td>0.071633</td><td>0.050088</td><td>0.548631</td><td>0.381649</td><td>0.271856</td><td>0.222704</td><td>0.572769</td><td>0.12487</td><td>0.228487</td><td>0.143845</td><td>0.024876</td><td>0.122122</td><td>0.014327</td><td>0.021249</td><td>0.005265</td><td>0.025642</td><td>0.10919</td><td>0.033569</td><td>0.00323</td><td>0.002176</td><td>0.012434</td><td>0.033723</td><td>0.105838</td><td>0.001155</td><td>0.080909</td><td>0.187526</td><td>0.006416</td><td>0.002638</td></tr><tr><td>&quot;std&quot;</td><td>409864.758823</td><td>136790.769901</td><td>4992.560749</td><td>0.257879</td><td>0.218127</td><td>0.49763</td><td>0.485792</td><td>0.444917</td><td>0.416062</td><td>0.494677</td><td>0.330572</td><td>0.419859</td><td>0.350933</td><td>0.155747</td><td>0.327427</td><td>0.118833</td><td>0.144212</td><td>0.072366</td><td>0.158065</td><td>0.311878</td><td>0.180118</td><td>0.056742</td><td>0.046601</td><td>0.110812</td><td>0.180516</td><td>0.307631</td><td>0.033966</td><td>0.272697</td><td>0.390334</td><td>0.07984</td><td>0.051297</td></tr><tr><td>&quot;min&quot;</td><td>0.0</td><td>499.0</td><td>49.0</td><td>0.0</td><td>0.0</td><td>0.0</td><td>0.0</td><td>0.0</td><td>0.0</td><td>0.0</td><td>0.0</td><td>0.0</td><td>0.0</td><td>0.0</td><td>0.0</td><td>0.0</td><td>0.0</td><td>0.0</td><td>0.0</td><td>0.0</td><td>0.0</td><td>0.0</td><td>0.0</td><td>0.0</td><td>0.0</td><td>0.0</td><td>0.0</td><td>0.0</td><td>0.0</td><td>0.0</td><td>0.0</td></tr><tr><td>&quot;25%&quot;</td><td>75000.0</td><td>499.0</td><td>49.0</td><td>0.0</td><td>0.0</td><td>0.0</td><td>0.0</td><td>0.0</td><td>0.0</td><td>0.0</td><td>0.0</td><td>0.0</td><td>0.0</td><td>0.0</td><td>0.0</td><td>0.0</td><td>0.0</td><td>0.0</td><td>0.0</td><td>0.0</td><td>0.0</td><td>0.0</td><td>0.0</td><td>0.0</td><td>0.0</td><td>0.0</td><td>0.0</td><td>0.0</td><td>0.0</td><td>0.0</td><td>0.0</td></tr><tr><td>&quot;50%&quot;</td><td>300000.0</td><td>3499.0</td><td>49.0</td><td>0.0</td><td>0.0</td><td>1.0</td><td>0.0</td><td>0.0</td><td>0.0</td><td>1.0</td><td>0.0</td><td>0.0</td><td>0.0</td><td>0.0</td><td>0.0</td><td>0.0</td><td>0.0</td><td>0.0</td><td>0.0</td><td>0.0</td><td>0.0</td><td>0.0</td><td>0.0</td><td>0.0</td><td>0.0</td><td>0.0</td><td>0.0</td><td>0.0</td><td>0.0</td><td>0.0</td><td>0.0</td></tr><tr><td>&quot;75%&quot;</td><td>1.000001e6</td><td>22499.0</td><td>449.0</td><td>0.0</td><td>0.0</td><td>1.0</td><td>1.0</td><td>1.0</td><td>0.0</td><td>1.0</td><td>0.0</td><td>0.0</td><td>0.0</td><td>0.0</td><td>0.0</td><td>0.0</td><td>0.0</td><td>0.0</td><td>0.0</td><td>0.0</td><td>0.0</td><td>0.0</td><td>0.0</td><td>0.0</td><td>0.0</td><td>0.0</td><td>0.0</td><td>0.0</td><td>0.0</td><td>0.0</td><td>0.0</td></tr><tr><td>&quot;max&quot;</td><td>1.000001e6</td><td>1e6</td><td>474999.0</td><td>1.0</td><td>1.0</td><td>1.0</td><td>1.0</td><td>1.0</td><td>1.0</td><td>1.0</td><td>1.0</td><td>1.0</td><td>1.0</td><td>1.0</td><td>1.0</td><td>1.0</td><td>1.0</td><td>1.0</td><td>1.0</td><td>1.0</td><td>1.0</td><td>1.0</td><td>1.0</td><td>1.0</td><td>1.0</td><td>1.0</td><td>1.0</td><td>1.0</td><td>1.0</td><td>1.0</td><td>1.0</td></tr></tbody></table></div>"
      ],
      "text/plain": [
       "shape: (9, 32)\n",
       "┌───────────┬───────────┬───────────┬───────────┬───┬───────────┬───────────┬───────────┬──────────┐\n",
       "│ statistic ┆ estimated ┆ estimated ┆ estimated ┆ … ┆ womens_is ┆ incivilit ┆ freefair_ ┆ fraud_il │\n",
       "│ ---       ┆ _audience ┆ _impressi ┆ _spend    ┆   ┆ sue_topic ┆ y_illumin ┆ illuminat ┆ luminati │\n",
       "│ str       ┆ _size     ┆ ons       ┆ ---       ┆   ┆ _illumina ┆ ating     ┆ ing       ┆ ng       │\n",
       "│           ┆ ---       ┆ ---       ┆ f64       ┆   ┆ tin…      ┆ ---       ┆ ---       ┆ ---      │\n",
       "│           ┆ f64       ┆ f64       ┆           ┆   ┆ ---       ┆ f64       ┆ f64       ┆ f64      │\n",
       "│           ┆           ┆           ┆           ┆   ┆ f64       ┆           ┆           ┆          │\n",
       "╞═══════════╪═══════════╪═══════════╪═══════════╪═══╪═══════════╪═══════════╪═══════════╪══════════╡\n",
       "│ count     ┆ 246745.0  ┆ 246745.0  ┆ 246745.0  ┆ … ┆ 246745.0  ┆ 246745.0  ┆ 246745.0  ┆ 246745.0 │\n",
       "│ null_coun ┆ 0.0       ┆ 0.0       ┆ 0.0       ┆ … ┆ 0.0       ┆ 0.0       ┆ 0.0       ┆ 0.0      │\n",
       "│ t         ┆           ┆           ┆           ┆   ┆           ┆           ┆           ┆          │\n",
       "│ mean      ┆ 556462.85 ┆ 45601.525 ┆ 1061.2914 ┆ … ┆ 0.080909  ┆ 0.187526  ┆ 0.006416  ┆ 0.002638 │\n",
       "│           ┆ 5969      ┆ 952       ┆ 34        ┆   ┆           ┆           ┆           ┆          │\n",
       "│ std       ┆ 409864.75 ┆ 136790.76 ┆ 4992.5607 ┆ … ┆ 0.272697  ┆ 0.390334  ┆ 0.07984   ┆ 0.051297 │\n",
       "│           ┆ 8823      ┆ 9901      ┆ 49        ┆   ┆           ┆           ┆           ┆          │\n",
       "│ min       ┆ 0.0       ┆ 499.0     ┆ 49.0      ┆ … ┆ 0.0       ┆ 0.0       ┆ 0.0       ┆ 0.0      │\n",
       "│ 25%       ┆ 75000.0   ┆ 499.0     ┆ 49.0      ┆ … ┆ 0.0       ┆ 0.0       ┆ 0.0       ┆ 0.0      │\n",
       "│ 50%       ┆ 300000.0  ┆ 3499.0    ┆ 49.0      ┆ … ┆ 0.0       ┆ 0.0       ┆ 0.0       ┆ 0.0      │\n",
       "│ 75%       ┆ 1.000001e ┆ 22499.0   ┆ 449.0     ┆ … ┆ 0.0       ┆ 0.0       ┆ 0.0       ┆ 0.0      │\n",
       "│           ┆ 6         ┆           ┆           ┆   ┆           ┆           ┆           ┆          │\n",
       "│ max       ┆ 1.000001e ┆ 1e6       ┆ 474999.0  ┆ … ┆ 1.0       ┆ 1.0       ┆ 1.0       ┆ 1.0      │\n",
       "│           ┆ 6         ┆           ┆           ┆   ┆           ┆           ┆           ┆          │\n",
       "└───────────┴───────────┴───────────┴───────────┴───┴───────────┴───────────┴───────────┴──────────┘"
      ]
     },
     "execution_count": 11,
     "metadata": {},
     "output_type": "execute_result"
    }
   ],
   "source": [
    "# Identify numeric columns\n",
    "numeric_cols = [col for col, dtype in zip(df_ads.columns, df_ads.dtypes)\n",
    "                if dtype in (pl.Int8, pl.Int16, pl.Int32, pl.Int64,\n",
    "                             pl.UInt8, pl.UInt16, pl.UInt32, pl.UInt64,\n",
    "                             pl.Float32, pl.Float64)]\n",
    "\n",
    "# Compute descriptive stats correctly\n",
    "df_ads.select(numeric_cols).describe()"
   ]
  },
  {
   "cell_type": "markdown",
   "id": "53056bce-a2ac-45f3-ab61-6115826234e0",
   "metadata": {},
   "source": [
    "## Descriptive stats"
   ]
  },
  {
   "cell_type": "code",
   "execution_count": 12,
   "id": "fdb97d3e-d967-43ab-92fe-dc8789bf5500",
   "metadata": {},
   "outputs": [
    {
     "name": "stdout",
     "output_type": "stream",
     "text": [
      "shape: (186, 1)\n",
      "┌──────────┐\n",
      "│ column_0 │\n",
      "│ ---      │\n",
      "│ f64      │\n",
      "╞══════════╡\n",
      "│ 246745.0 │\n",
      "│ 246745.0 │\n",
      "│ 246745.0 │\n",
      "│ 246745.0 │\n",
      "│ 246745.0 │\n",
      "│ …        │\n",
      "│ 1.0      │\n",
      "│ 1.0      │\n",
      "│ 1.0      │\n",
      "│ 1.0      │\n",
      "│ 1.0      │\n",
      "└──────────┘\n"
     ]
    }
   ],
   "source": [
    "summary_stats = df_ads.select(\n",
    "    [pl.col(col).count().alias(f\"{col}_count\") for col in numeric_cols] +\n",
    "    [pl.col(col).mean().alias(f\"{col}_mean\") for col in numeric_cols] +\n",
    "    [pl.col(col).median().alias(f\"{col}_median\") for col in numeric_cols] +\n",
    "    [pl.col(col).std().alias(f\"{col}_std\") for col in numeric_cols] +\n",
    "    [pl.col(col).min().alias(f\"{col}_min\") for col in numeric_cols] +\n",
    "    [pl.col(col).max().alias(f\"{col}_max\") for col in numeric_cols]\n",
    ")\n",
    "\n",
    "# Display transposed for readability\n",
    "print(summary_stats.transpose())"
   ]
  },
  {
   "cell_type": "markdown",
   "id": "dc79a352-d6e9-4ccb-8a9b-bfcb73e11359",
   "metadata": {},
   "source": [
    "## Step 2: nunique() – Unique Value Counts for Each Column"
   ]
  },
  {
   "cell_type": "code",
   "execution_count": 13,
   "id": "2b304f85-c1a1-4578-8eed-e839fdd1e7ff",
   "metadata": {},
   "outputs": [
    {
     "data": {
      "text/html": [
       "<div><style>\n",
       ".dataframe > thead > tr,\n",
       ".dataframe > tbody > tr {\n",
       "  text-align: right;\n",
       "  white-space: pre-wrap;\n",
       "}\n",
       "</style>\n",
       "<small>shape: (1, 41)</small><table border=\"1\" class=\"dataframe\"><thead><tr><th>page_id_nunique</th><th>ad_id_nunique</th><th>ad_creation_time_nunique</th><th>bylines_nunique</th><th>currency_nunique</th><th>delivery_by_region_nunique</th><th>demographic_distribution_nunique</th><th>estimated_audience_size_nunique</th><th>estimated_impressions_nunique</th><th>estimated_spend_nunique</th><th>publisher_platforms_nunique</th><th>illuminating_scored_message_nunique</th><th>illuminating_mentions_nunique</th><th>scam_illuminating_nunique</th><th>election_integrity_Truth_illuminating_nunique</th><th>advocacy_msg_type_illuminating_nunique</th><th>issue_msg_type_illuminating_nunique</th><th>attack_msg_type_illuminating_nunique</th><th>image_msg_type_illuminating_nunique</th><th>cta_msg_type_illuminating_nunique</th><th>engagement_cta_subtype_illuminating_nunique</th><th>fundraising_cta_subtype_illuminating_nunique</th><th>voting_cta_subtype_illuminating_nunique</th><th>covid_topic_illuminating_nunique</th><th>economy_topic_illuminating_nunique</th><th>education_topic_illuminating_nunique</th><th>environment_topic_illuminating_nunique</th><th>foreign_policy_topic_illuminating_nunique</th><th>governance_topic_illuminating_nunique</th><th>health_topic_illuminating_nunique</th><th>immigration_topic_illuminating_nunique</th><th>lgbtq_issues_topic_illuminating_nunique</th><th>military_topic_illuminating_nunique</th><th>race_and_ethnicity_topic_illuminating_nunique</th><th>safety_topic_illuminating_nunique</th><th>social_and_cultural_topic_illuminating_nunique</th><th>technology_and_privacy_topic_illuminating_nunique</th><th>womens_issue_topic_illuminating_nunique</th><th>incivility_illuminating_nunique</th><th>freefair_illuminating_nunique</th><th>fraud_illuminating_nunique</th></tr><tr><td>u32</td><td>u32</td><td>u32</td><td>u32</td><td>u32</td><td>u32</td><td>u32</td><td>u32</td><td>u32</td><td>u32</td><td>u32</td><td>u32</td><td>u32</td><td>u32</td><td>u32</td><td>u32</td><td>u32</td><td>u32</td><td>u32</td><td>u32</td><td>u32</td><td>u32</td><td>u32</td><td>u32</td><td>u32</td><td>u32</td><td>u32</td><td>u32</td><td>u32</td><td>u32</td><td>u32</td><td>u32</td><td>u32</td><td>u32</td><td>u32</td><td>u32</td><td>u32</td><td>u32</td><td>u32</td><td>u32</td><td>u32</td></tr></thead><tbody><tr><td>4475</td><td>246745</td><td>547</td><td>3791</td><td>18</td><td>141122</td><td>215622</td><td>9</td><td>39</td><td>44</td><td>9</td><td>26338</td><td>278</td><td>2</td><td>2</td><td>2</td><td>2</td><td>2</td><td>2</td><td>2</td><td>2</td><td>2</td><td>2</td><td>2</td><td>2</td><td>2</td><td>2</td><td>2</td><td>2</td><td>2</td><td>2</td><td>2</td><td>2</td><td>2</td><td>2</td><td>2</td><td>2</td><td>2</td><td>2</td><td>2</td><td>2</td></tr></tbody></table></div>"
      ],
      "text/plain": [
       "shape: (1, 41)\n",
       "┌───────────┬───────────┬───────────┬───────────┬───┬───────────┬───────────┬───────────┬──────────┐\n",
       "│ page_id_n ┆ ad_id_nun ┆ ad_creati ┆ bylines_n ┆ … ┆ womens_is ┆ incivilit ┆ freefair_ ┆ fraud_il │\n",
       "│ unique    ┆ ique      ┆ on_time_n ┆ unique    ┆   ┆ sue_topic ┆ y_illumin ┆ illuminat ┆ luminati │\n",
       "│ ---       ┆ ---       ┆ unique    ┆ ---       ┆   ┆ _illumina ┆ ating_nun ┆ ing_nuniq ┆ ng_nuniq │\n",
       "│ u32       ┆ u32       ┆ ---       ┆ u32       ┆   ┆ tin…      ┆ iqu…      ┆ ue        ┆ ue       │\n",
       "│           ┆           ┆ u32       ┆           ┆   ┆ ---       ┆ ---       ┆ ---       ┆ ---      │\n",
       "│           ┆           ┆           ┆           ┆   ┆ u32       ┆ u32       ┆ u32       ┆ u32      │\n",
       "╞═══════════╪═══════════╪═══════════╪═══════════╪═══╪═══════════╪═══════════╪═══════════╪══════════╡\n",
       "│ 4475      ┆ 246745    ┆ 547       ┆ 3791      ┆ … ┆ 2         ┆ 2         ┆ 2         ┆ 2        │\n",
       "└───────────┴───────────┴───────────┴───────────┴───┴───────────┴───────────┴───────────┴──────────┘"
      ]
     },
     "execution_count": 13,
     "metadata": {},
     "output_type": "execute_result"
    }
   ],
   "source": [
    "nunique_stats = df_ads.select([\n",
    "    pl.col(col).n_unique().alias(f\"{col}_nunique\") for col in df_ads.columns\n",
    "])\n",
    "nunique_stats"
   ]
  },
  {
   "cell_type": "markdown",
   "id": "6a23484b-cd96-4381-9de1-e9647be762f3",
   "metadata": {},
   "source": [
    "## value_counts() – Frequency Counts for Categorical Columns (Top N)"
   ]
  },
  {
   "cell_type": "code",
   "execution_count": 21,
   "id": "cc7d5fab-0fb2-4c5f-a78f-b54a5897bab4",
   "metadata": {},
   "outputs": [
    {
     "name": "stdout",
     "output_type": "stream",
     "text": [
      "Mode of page_id: 4d66f5853f0365dba032a87704a634f023d15babde973bb7a284ed8cd2707b2d\n",
      "Mode of ad_id: a4cbfafa6c19ecaf8077aef64a0dfe2c1b0580b88942a4a799eb024ff7471919\n",
      "Mode of ad_creation_time: 2024-10-27\n",
      "Mode of bylines: HARRIS FOR PRESIDENT\n",
      "Mode of currency: USD\n",
      "Mode of delivery_by_region: {}\n",
      "Mode of demographic_distribution: {}\n",
      "Mode of estimated_audience_size: 1000001\n",
      "Mode of estimated_impressions: 499\n",
      "Mode of estimated_spend: 49\n",
      "Mode of publisher_platforms: ['facebook', 'instagram']\n",
      "Mode of illuminating_scored_message: e3b0c44298fc1c149afbf4c8996fb92427ae41e4649b934ca495991b7852b855\n",
      "Mode of illuminating_mentions: []\n",
      "Mode of scam_illuminating: 0\n",
      "Mode of election_integrity_Truth_illuminating: 0\n",
      "Mode of advocacy_msg_type_illuminating: 1\n",
      "Mode of issue_msg_type_illuminating: 0\n",
      "Mode of attack_msg_type_illuminating: 0\n",
      "Mode of image_msg_type_illuminating: 0\n",
      "Mode of cta_msg_type_illuminating: 1\n",
      "Mode of engagement_cta_subtype_illuminating: 0\n",
      "Mode of fundraising_cta_subtype_illuminating: 0\n",
      "Mode of voting_cta_subtype_illuminating: 0\n",
      "Mode of covid_topic_illuminating: 0\n",
      "Mode of economy_topic_illuminating: 0\n",
      "Mode of education_topic_illuminating: 0\n",
      "Mode of environment_topic_illuminating: 0\n",
      "Mode of foreign_policy_topic_illuminating: 0\n",
      "Mode of governance_topic_illuminating: 0\n",
      "Mode of health_topic_illuminating: 0\n",
      "Mode of immigration_topic_illuminating: 0\n",
      "Mode of lgbtq_issues_topic_illuminating: 0\n",
      "Mode of military_topic_illuminating: 0\n",
      "Mode of race_and_ethnicity_topic_illuminating: 0\n",
      "Mode of safety_topic_illuminating: 0\n",
      "Mode of social_and_cultural_topic_illuminating: 0\n",
      "Mode of technology_and_privacy_topic_illuminating: 0\n",
      "Mode of womens_issue_topic_illuminating: 0\n",
      "Mode of incivility_illuminating: 0\n",
      "Mode of freefair_illuminating: 0\n",
      "Mode of fraud_illuminating: 0\n"
     ]
    }
   ],
   "source": [
    "for col in df_ads.columns:\n",
    "    try:\n",
    "        mode_val = (\n",
    "            df_ads\n",
    "            .select(pl.col(col))\n",
    "            .group_by(col)\n",
    "            .agg(pl.len().alias(\"count\"))\n",
    "            .sort(\"count\", descending=True)\n",
    "            .select(col)\n",
    "            .get_column(col)\n",
    "            .to_list()[0]\n",
    "        )\n",
    "        print(f\"Mode of {col}: {mode_val}\")\n",
    "    except Exception as e:\n",
    "        print(f\"Mode of {col}: Error - {e}\")"
   ]
  },
  {
   "cell_type": "markdown",
   "id": "72f2fec0-40ef-418e-bd30-1c85fb930ac2",
   "metadata": {},
   "source": [
    "## Group by page id"
   ]
  },
  {
   "cell_type": "code",
   "execution_count": 24,
   "id": "835eab41-b2e0-419d-8d26-a80da90b7dd8",
   "metadata": {},
   "outputs": [
    {
     "data": {
      "text/html": [
       "<div><style>\n",
       ".dataframe > thead > tr,\n",
       ".dataframe > tbody > tr {\n",
       "  text-align: right;\n",
       "  white-space: pre-wrap;\n",
       "}\n",
       "</style>\n",
       "<small>shape: (5, 34)</small><table border=\"1\" class=\"dataframe\"><thead><tr><th>page_id</th><th>total_ads</th><th>unique_ad_ids</th><th>estimated_audience_size_mean</th><th>estimated_impressions_mean</th><th>estimated_spend_mean</th><th>scam_illuminating_mean</th><th>election_integrity_Truth_illuminating_mean</th><th>advocacy_msg_type_illuminating_mean</th><th>issue_msg_type_illuminating_mean</th><th>attack_msg_type_illuminating_mean</th><th>image_msg_type_illuminating_mean</th><th>cta_msg_type_illuminating_mean</th><th>engagement_cta_subtype_illuminating_mean</th><th>fundraising_cta_subtype_illuminating_mean</th><th>voting_cta_subtype_illuminating_mean</th><th>covid_topic_illuminating_mean</th><th>economy_topic_illuminating_mean</th><th>education_topic_illuminating_mean</th><th>environment_topic_illuminating_mean</th><th>foreign_policy_topic_illuminating_mean</th><th>governance_topic_illuminating_mean</th><th>health_topic_illuminating_mean</th><th>immigration_topic_illuminating_mean</th><th>lgbtq_issues_topic_illuminating_mean</th><th>military_topic_illuminating_mean</th><th>race_and_ethnicity_topic_illuminating_mean</th><th>safety_topic_illuminating_mean</th><th>social_and_cultural_topic_illuminating_mean</th><th>technology_and_privacy_topic_illuminating_mean</th><th>womens_issue_topic_illuminating_mean</th><th>incivility_illuminating_mean</th><th>freefair_illuminating_mean</th><th>fraud_illuminating_mean</th></tr><tr><td>str</td><td>u32</td><td>u32</td><td>f64</td><td>f64</td><td>f64</td><td>f64</td><td>f64</td><td>f64</td><td>f64</td><td>f64</td><td>f64</td><td>f64</td><td>f64</td><td>f64</td><td>f64</td><td>f64</td><td>f64</td><td>f64</td><td>f64</td><td>f64</td><td>f64</td><td>f64</td><td>f64</td><td>f64</td><td>f64</td><td>f64</td><td>f64</td><td>f64</td><td>f64</td><td>f64</td><td>f64</td><td>f64</td><td>f64</td></tr></thead><tbody><tr><td>&quot;301193b329ebf9af3b3592fd193bdf…</td><td>5</td><td>5</td><td>1.000001e6</td><td>20499.0</td><td>89.0</td><td>0.0</td><td>0.0</td><td>0.8</td><td>1.0</td><td>0.6</td><td>0.4</td><td>0.4</td><td>0.2</td><td>0.0</td><td>0.0</td><td>0.0</td><td>0.4</td><td>0.0</td><td>0.0</td><td>0.0</td><td>0.0</td><td>0.0</td><td>0.4</td><td>0.0</td><td>0.2</td><td>0.0</td><td>0.0</td><td>0.0</td><td>0.0</td><td>0.0</td><td>0.2</td><td>0.0</td><td>0.0</td></tr><tr><td>&quot;463e49121b2095e0004f1f7f643b07…</td><td>12</td><td>12</td><td>1.000001e6</td><td>263915.75</td><td>7915.666667</td><td>0.0</td><td>0.0</td><td>0.083333</td><td>0.0</td><td>0.0</td><td>0.0</td><td>0.0</td><td>0.0</td><td>0.0</td><td>0.0</td><td>0.0</td><td>0.0</td><td>0.0</td><td>0.0</td><td>0.0</td><td>0.0</td><td>0.0</td><td>0.0</td><td>0.0</td><td>0.0</td><td>0.0</td><td>0.0</td><td>0.0</td><td>0.0</td><td>0.0</td><td>0.0</td><td>0.0</td><td>0.0</td></tr><tr><td>&quot;1c5944669a35c19c174e0201ae11b4…</td><td>1</td><td>1</td><td>30000.0</td><td>12499.0</td><td>349.0</td><td>0.0</td><td>1.0</td><td>0.0</td><td>1.0</td><td>1.0</td><td>0.0</td><td>0.0</td><td>0.0</td><td>0.0</td><td>0.0</td><td>0.0</td><td>0.0</td><td>0.0</td><td>0.0</td><td>0.0</td><td>0.0</td><td>0.0</td><td>0.0</td><td>0.0</td><td>0.0</td><td>0.0</td><td>0.0</td><td>0.0</td><td>0.0</td><td>0.0</td><td>1.0</td><td>0.0</td><td>1.0</td></tr><tr><td>&quot;6942bc488b3f77a7fb9149859cec91…</td><td>1</td><td>1</td><td>3000.0</td><td>9499.0</td><td>449.0</td><td>0.0</td><td>0.0</td><td>0.0</td><td>0.0</td><td>0.0</td><td>1.0</td><td>1.0</td><td>0.0</td><td>0.0</td><td>1.0</td><td>0.0</td><td>0.0</td><td>0.0</td><td>0.0</td><td>0.0</td><td>0.0</td><td>0.0</td><td>0.0</td><td>0.0</td><td>0.0</td><td>0.0</td><td>0.0</td><td>0.0</td><td>0.0</td><td>0.0</td><td>0.0</td><td>0.0</td><td>0.0</td></tr><tr><td>&quot;d6c89343fbdc2d8567395fc563990e…</td><td>2</td><td>2</td><td>30000.0</td><td>41249.0</td><td>999.0</td><td>0.0</td><td>0.0</td><td>1.0</td><td>0.0</td><td>0.5</td><td>1.0</td><td>1.0</td><td>0.0</td><td>0.0</td><td>0.5</td><td>0.0</td><td>0.0</td><td>0.0</td><td>0.0</td><td>0.0</td><td>0.0</td><td>0.0</td><td>0.0</td><td>0.0</td><td>0.0</td><td>0.0</td><td>0.0</td><td>0.0</td><td>0.0</td><td>0.0</td><td>0.0</td><td>0.0</td><td>0.0</td></tr></tbody></table></div>"
      ],
      "text/plain": [
       "shape: (5, 34)\n",
       "┌───────────┬───────────┬───────────┬───────────┬───┬───────────┬───────────┬───────────┬──────────┐\n",
       "│ page_id   ┆ total_ads ┆ unique_ad ┆ estimated ┆ … ┆ womens_is ┆ incivilit ┆ freefair_ ┆ fraud_il │\n",
       "│ ---       ┆ ---       ┆ _ids      ┆ _audience ┆   ┆ sue_topic ┆ y_illumin ┆ illuminat ┆ luminati │\n",
       "│ str       ┆ u32       ┆ ---       ┆ _size_mea ┆   ┆ _illumina ┆ ating_mea ┆ ing_mean  ┆ ng_mean  │\n",
       "│           ┆           ┆ u32       ┆ n         ┆   ┆ tin…      ┆ n         ┆ ---       ┆ ---      │\n",
       "│           ┆           ┆           ┆ ---       ┆   ┆ ---       ┆ ---       ┆ f64       ┆ f64      │\n",
       "│           ┆           ┆           ┆ f64       ┆   ┆ f64       ┆ f64       ┆           ┆          │\n",
       "╞═══════════╪═══════════╪═══════════╪═══════════╪═══╪═══════════╪═══════════╪═══════════╪══════════╡\n",
       "│ 301193b32 ┆ 5         ┆ 5         ┆ 1.000001e ┆ … ┆ 0.0       ┆ 0.2       ┆ 0.0       ┆ 0.0      │\n",
       "│ 9ebf9af3b ┆           ┆           ┆ 6         ┆   ┆           ┆           ┆           ┆          │\n",
       "│ 3592fd193 ┆           ┆           ┆           ┆   ┆           ┆           ┆           ┆          │\n",
       "│ bdf…      ┆           ┆           ┆           ┆   ┆           ┆           ┆           ┆          │\n",
       "│ 463e49121 ┆ 12        ┆ 12        ┆ 1.000001e ┆ … ┆ 0.0       ┆ 0.0       ┆ 0.0       ┆ 0.0      │\n",
       "│ b2095e000 ┆           ┆           ┆ 6         ┆   ┆           ┆           ┆           ┆          │\n",
       "│ 4f1f7f643 ┆           ┆           ┆           ┆   ┆           ┆           ┆           ┆          │\n",
       "│ b07…      ┆           ┆           ┆           ┆   ┆           ┆           ┆           ┆          │\n",
       "│ 1c5944669 ┆ 1         ┆ 1         ┆ 30000.0   ┆ … ┆ 0.0       ┆ 1.0       ┆ 0.0       ┆ 1.0      │\n",
       "│ a35c19c17 ┆           ┆           ┆           ┆   ┆           ┆           ┆           ┆          │\n",
       "│ 4e0201ae1 ┆           ┆           ┆           ┆   ┆           ┆           ┆           ┆          │\n",
       "│ 1b4…      ┆           ┆           ┆           ┆   ┆           ┆           ┆           ┆          │\n",
       "│ 6942bc488 ┆ 1         ┆ 1         ┆ 3000.0    ┆ … ┆ 0.0       ┆ 0.0       ┆ 0.0       ┆ 0.0      │\n",
       "│ b3f77a7fb ┆           ┆           ┆           ┆   ┆           ┆           ┆           ┆          │\n",
       "│ 9149859ce ┆           ┆           ┆           ┆   ┆           ┆           ┆           ┆          │\n",
       "│ c91…      ┆           ┆           ┆           ┆   ┆           ┆           ┆           ┆          │\n",
       "│ d6c89343f ┆ 2         ┆ 2         ┆ 30000.0   ┆ … ┆ 0.0       ┆ 0.0       ┆ 0.0       ┆ 0.0      │\n",
       "│ bdc2d8567 ┆           ┆           ┆           ┆   ┆           ┆           ┆           ┆          │\n",
       "│ 395fc5639 ┆           ┆           ┆           ┆   ┆           ┆           ┆           ┆          │\n",
       "│ 90e…      ┆           ┆           ┆           ┆   ┆           ┆           ┆           ┆          │\n",
       "└───────────┴───────────┴───────────┴───────────┴───┴───────────┴───────────┴───────────┴──────────┘"
      ]
     },
     "execution_count": 24,
     "metadata": {},
     "output_type": "execute_result"
    }
   ],
   "source": [
    "grouped_by_page = (\n",
    "    df_ads\n",
    "    .group_by(\"page_id\")\n",
    "    .agg([\n",
    "        pl.len().alias(\"total_ads\"),\n",
    "        pl.col(\"ad_id\").n_unique().alias(\"unique_ad_ids\"),\n",
    "        *[pl.col(col).mean().alias(f\"{col}_mean\") for col in numeric_cols]\n",
    "    ])\n",
    ")\n",
    "\n",
    "grouped_by_page.head()"
   ]
  },
  {
   "cell_type": "markdown",
   "id": "fe9ae7e9-8694-42d4-92f3-ef2ffa96e50d",
   "metadata": {},
   "source": [
    "## group by page and add id"
   ]
  },
  {
   "cell_type": "code",
   "execution_count": 25,
   "id": "cde7aa5e-5b61-40f1-9f4a-4414317d7d17",
   "metadata": {},
   "outputs": [
    {
     "data": {
      "text/html": [
       "<div><style>\n",
       ".dataframe > thead > tr,\n",
       ".dataframe > tbody > tr {\n",
       "  text-align: right;\n",
       "  white-space: pre-wrap;\n",
       "}\n",
       "</style>\n",
       "<small>shape: (5, 127)</small><table border=\"1\" class=\"dataframe\"><thead><tr><th>page_id</th><th>ad_id</th><th>ad_count</th><th>estimated_audience_size_mean</th><th>estimated_impressions_mean</th><th>estimated_spend_mean</th><th>scam_illuminating_mean</th><th>election_integrity_Truth_illuminating_mean</th><th>advocacy_msg_type_illuminating_mean</th><th>issue_msg_type_illuminating_mean</th><th>attack_msg_type_illuminating_mean</th><th>image_msg_type_illuminating_mean</th><th>cta_msg_type_illuminating_mean</th><th>engagement_cta_subtype_illuminating_mean</th><th>fundraising_cta_subtype_illuminating_mean</th><th>voting_cta_subtype_illuminating_mean</th><th>covid_topic_illuminating_mean</th><th>economy_topic_illuminating_mean</th><th>education_topic_illuminating_mean</th><th>environment_topic_illuminating_mean</th><th>foreign_policy_topic_illuminating_mean</th><th>governance_topic_illuminating_mean</th><th>health_topic_illuminating_mean</th><th>immigration_topic_illuminating_mean</th><th>lgbtq_issues_topic_illuminating_mean</th><th>military_topic_illuminating_mean</th><th>race_and_ethnicity_topic_illuminating_mean</th><th>safety_topic_illuminating_mean</th><th>social_and_cultural_topic_illuminating_mean</th><th>technology_and_privacy_topic_illuminating_mean</th><th>womens_issue_topic_illuminating_mean</th><th>incivility_illuminating_mean</th><th>freefair_illuminating_mean</th><th>fraud_illuminating_mean</th><th>estimated_audience_size_std</th><th>estimated_impressions_std</th><th>estimated_spend_std</th><th>&hellip;</th><th>social_and_cultural_topic_illuminating_min</th><th>technology_and_privacy_topic_illuminating_min</th><th>womens_issue_topic_illuminating_min</th><th>incivility_illuminating_min</th><th>freefair_illuminating_min</th><th>fraud_illuminating_min</th><th>estimated_audience_size_max</th><th>estimated_impressions_max</th><th>estimated_spend_max</th><th>scam_illuminating_max</th><th>election_integrity_Truth_illuminating_max</th><th>advocacy_msg_type_illuminating_max</th><th>issue_msg_type_illuminating_max</th><th>attack_msg_type_illuminating_max</th><th>image_msg_type_illuminating_max</th><th>cta_msg_type_illuminating_max</th><th>engagement_cta_subtype_illuminating_max</th><th>fundraising_cta_subtype_illuminating_max</th><th>voting_cta_subtype_illuminating_max</th><th>covid_topic_illuminating_max</th><th>economy_topic_illuminating_max</th><th>education_topic_illuminating_max</th><th>environment_topic_illuminating_max</th><th>foreign_policy_topic_illuminating_max</th><th>governance_topic_illuminating_max</th><th>health_topic_illuminating_max</th><th>immigration_topic_illuminating_max</th><th>lgbtq_issues_topic_illuminating_max</th><th>military_topic_illuminating_max</th><th>race_and_ethnicity_topic_illuminating_max</th><th>safety_topic_illuminating_max</th><th>social_and_cultural_topic_illuminating_max</th><th>technology_and_privacy_topic_illuminating_max</th><th>womens_issue_topic_illuminating_max</th><th>incivility_illuminating_max</th><th>freefair_illuminating_max</th><th>fraud_illuminating_max</th></tr><tr><td>str</td><td>str</td><td>u32</td><td>f64</td><td>f64</td><td>f64</td><td>f64</td><td>f64</td><td>f64</td><td>f64</td><td>f64</td><td>f64</td><td>f64</td><td>f64</td><td>f64</td><td>f64</td><td>f64</td><td>f64</td><td>f64</td><td>f64</td><td>f64</td><td>f64</td><td>f64</td><td>f64</td><td>f64</td><td>f64</td><td>f64</td><td>f64</td><td>f64</td><td>f64</td><td>f64</td><td>f64</td><td>f64</td><td>f64</td><td>f64</td><td>f64</td><td>f64</td><td>&hellip;</td><td>i64</td><td>i64</td><td>i64</td><td>i64</td><td>i64</td><td>i64</td><td>i64</td><td>i64</td><td>i64</td><td>i64</td><td>i64</td><td>i64</td><td>i64</td><td>i64</td><td>i64</td><td>i64</td><td>i64</td><td>i64</td><td>i64</td><td>i64</td><td>i64</td><td>i64</td><td>i64</td><td>i64</td><td>i64</td><td>i64</td><td>i64</td><td>i64</td><td>i64</td><td>i64</td><td>i64</td><td>i64</td><td>i64</td><td>i64</td><td>i64</td><td>i64</td><td>i64</td></tr></thead><tbody><tr><td>&quot;722db2e6076936abb156782f03f4e8…</td><td>&quot;a7d18812219214b1e04570c8428119…</td><td>1</td><td>1.000001e6</td><td>499.0</td><td>49.0</td><td>0.0</td><td>0.0</td><td>0.0</td><td>0.0</td><td>0.0</td><td>0.0</td><td>1.0</td><td>1.0</td><td>0.0</td><td>0.0</td><td>0.0</td><td>0.0</td><td>0.0</td><td>0.0</td><td>0.0</td><td>0.0</td><td>0.0</td><td>0.0</td><td>0.0</td><td>0.0</td><td>0.0</td><td>0.0</td><td>0.0</td><td>0.0</td><td>0.0</td><td>0.0</td><td>0.0</td><td>0.0</td><td>null</td><td>null</td><td>null</td><td>&hellip;</td><td>0</td><td>0</td><td>0</td><td>0</td><td>0</td><td>0</td><td>1000001</td><td>499</td><td>49</td><td>0</td><td>0</td><td>0</td><td>0</td><td>0</td><td>0</td><td>1</td><td>1</td><td>0</td><td>0</td><td>0</td><td>0</td><td>0</td><td>0</td><td>0</td><td>0</td><td>0</td><td>0</td><td>0</td><td>0</td><td>0</td><td>0</td><td>0</td><td>0</td><td>0</td><td>0</td><td>0</td><td>0</td></tr><tr><td>&quot;e3342051b60393770363ffc02946a0…</td><td>&quot;d6d00b171785fedc283a180d04ed6f…</td><td>1</td><td>300000.0</td><td>499.0</td><td>49.0</td><td>0.0</td><td>0.0</td><td>1.0</td><td>0.0</td><td>0.0</td><td>0.0</td><td>1.0</td><td>0.0</td><td>1.0</td><td>0.0</td><td>0.0</td><td>0.0</td><td>0.0</td><td>0.0</td><td>0.0</td><td>0.0</td><td>0.0</td><td>0.0</td><td>0.0</td><td>0.0</td><td>0.0</td><td>0.0</td><td>0.0</td><td>0.0</td><td>0.0</td><td>1.0</td><td>0.0</td><td>0.0</td><td>null</td><td>null</td><td>null</td><td>&hellip;</td><td>0</td><td>0</td><td>0</td><td>1</td><td>0</td><td>0</td><td>300000</td><td>499</td><td>49</td><td>0</td><td>0</td><td>1</td><td>0</td><td>0</td><td>0</td><td>1</td><td>0</td><td>1</td><td>0</td><td>0</td><td>0</td><td>0</td><td>0</td><td>0</td><td>0</td><td>0</td><td>0</td><td>0</td><td>0</td><td>0</td><td>0</td><td>0</td><td>0</td><td>0</td><td>1</td><td>0</td><td>0</td></tr><tr><td>&quot;ec8ac6dc1cddc49972de2c31b62343…</td><td>&quot;87053b7afd4a558674a3a9d191cea2…</td><td>1</td><td>1.000001e6</td><td>1499.0</td><td>49.0</td><td>0.0</td><td>0.0</td><td>1.0</td><td>0.0</td><td>1.0</td><td>1.0</td><td>1.0</td><td>0.0</td><td>1.0</td><td>0.0</td><td>0.0</td><td>0.0</td><td>0.0</td><td>0.0</td><td>0.0</td><td>0.0</td><td>0.0</td><td>0.0</td><td>0.0</td><td>0.0</td><td>0.0</td><td>0.0</td><td>0.0</td><td>0.0</td><td>0.0</td><td>1.0</td><td>0.0</td><td>0.0</td><td>null</td><td>null</td><td>null</td><td>&hellip;</td><td>0</td><td>0</td><td>0</td><td>1</td><td>0</td><td>0</td><td>1000001</td><td>1499</td><td>49</td><td>0</td><td>0</td><td>1</td><td>0</td><td>1</td><td>1</td><td>1</td><td>0</td><td>1</td><td>0</td><td>0</td><td>0</td><td>0</td><td>0</td><td>0</td><td>0</td><td>0</td><td>0</td><td>0</td><td>0</td><td>0</td><td>0</td><td>0</td><td>0</td><td>0</td><td>1</td><td>0</td><td>0</td></tr><tr><td>&quot;d2c9aab423e210c69f5b644301235c…</td><td>&quot;419ce116a516dd76d31ccdbc3a969c…</td><td>1</td><td>75000.0</td><td>42499.0</td><td>249.0</td><td>0.0</td><td>0.0</td><td>1.0</td><td>1.0</td><td>1.0</td><td>0.0</td><td>0.0</td><td>0.0</td><td>0.0</td><td>0.0</td><td>0.0</td><td>0.0</td><td>0.0</td><td>0.0</td><td>0.0</td><td>0.0</td><td>0.0</td><td>0.0</td><td>0.0</td><td>0.0</td><td>0.0</td><td>0.0</td><td>0.0</td><td>0.0</td><td>0.0</td><td>1.0</td><td>0.0</td><td>0.0</td><td>null</td><td>null</td><td>null</td><td>&hellip;</td><td>0</td><td>0</td><td>0</td><td>1</td><td>0</td><td>0</td><td>75000</td><td>42499</td><td>249</td><td>0</td><td>0</td><td>1</td><td>1</td><td>1</td><td>0</td><td>0</td><td>0</td><td>0</td><td>0</td><td>0</td><td>0</td><td>0</td><td>0</td><td>0</td><td>0</td><td>0</td><td>0</td><td>0</td><td>0</td><td>0</td><td>0</td><td>0</td><td>0</td><td>0</td><td>1</td><td>0</td><td>0</td></tr><tr><td>&quot;4ade404186269ec62d2dd7d9e0ed5f…</td><td>&quot;00a2f6ceeb0452778536036f88df38…</td><td>1</td><td>300000.0</td><td>4499.0</td><td>249.0</td><td>0.0</td><td>0.0</td><td>0.0</td><td>0.0</td><td>0.0</td><td>0.0</td><td>1.0</td><td>0.0</td><td>1.0</td><td>0.0</td><td>0.0</td><td>0.0</td><td>0.0</td><td>0.0</td><td>0.0</td><td>0.0</td><td>0.0</td><td>0.0</td><td>0.0</td><td>0.0</td><td>0.0</td><td>0.0</td><td>0.0</td><td>0.0</td><td>0.0</td><td>0.0</td><td>0.0</td><td>0.0</td><td>null</td><td>null</td><td>null</td><td>&hellip;</td><td>0</td><td>0</td><td>0</td><td>0</td><td>0</td><td>0</td><td>300000</td><td>4499</td><td>249</td><td>0</td><td>0</td><td>0</td><td>0</td><td>0</td><td>0</td><td>1</td><td>0</td><td>1</td><td>0</td><td>0</td><td>0</td><td>0</td><td>0</td><td>0</td><td>0</td><td>0</td><td>0</td><td>0</td><td>0</td><td>0</td><td>0</td><td>0</td><td>0</td><td>0</td><td>0</td><td>0</td><td>0</td></tr></tbody></table></div>"
      ],
      "text/plain": [
       "shape: (5, 127)\n",
       "┌───────────┬───────────┬──────────┬───────────┬───┬───────────┬───────────┬───────────┬───────────┐\n",
       "│ page_id   ┆ ad_id     ┆ ad_count ┆ estimated ┆ … ┆ womens_is ┆ incivilit ┆ freefair_ ┆ fraud_ill │\n",
       "│ ---       ┆ ---       ┆ ---      ┆ _audience ┆   ┆ sue_topic ┆ y_illumin ┆ illuminat ┆ uminating │\n",
       "│ str       ┆ str       ┆ u32      ┆ _size_mea ┆   ┆ _illumina ┆ ating_max ┆ ing_max   ┆ _max      │\n",
       "│           ┆           ┆          ┆ n         ┆   ┆ tin…      ┆ ---       ┆ ---       ┆ ---       │\n",
       "│           ┆           ┆          ┆ ---       ┆   ┆ ---       ┆ i64       ┆ i64       ┆ i64       │\n",
       "│           ┆           ┆          ┆ f64       ┆   ┆ i64       ┆           ┆           ┆           │\n",
       "╞═══════════╪═══════════╪══════════╪═══════════╪═══╪═══════════╪═══════════╪═══════════╪═══════════╡\n",
       "│ 722db2e60 ┆ a7d188122 ┆ 1        ┆ 1.000001e ┆ … ┆ 0         ┆ 0         ┆ 0         ┆ 0         │\n",
       "│ 76936abb1 ┆ 19214b1e0 ┆          ┆ 6         ┆   ┆           ┆           ┆           ┆           │\n",
       "│ 56782f03f ┆ 4570c8428 ┆          ┆           ┆   ┆           ┆           ┆           ┆           │\n",
       "│ 4e8…      ┆ 119…      ┆          ┆           ┆   ┆           ┆           ┆           ┆           │\n",
       "│ e3342051b ┆ d6d00b171 ┆ 1        ┆ 300000.0  ┆ … ┆ 0         ┆ 1         ┆ 0         ┆ 0         │\n",
       "│ 603937703 ┆ 785fedc28 ┆          ┆           ┆   ┆           ┆           ┆           ┆           │\n",
       "│ 63ffc0294 ┆ 3a180d04e ┆          ┆           ┆   ┆           ┆           ┆           ┆           │\n",
       "│ 6a0…      ┆ d6f…      ┆          ┆           ┆   ┆           ┆           ┆           ┆           │\n",
       "│ ec8ac6dc1 ┆ 87053b7af ┆ 1        ┆ 1.000001e ┆ … ┆ 0         ┆ 1         ┆ 0         ┆ 0         │\n",
       "│ cddc49972 ┆ d4a558674 ┆          ┆ 6         ┆   ┆           ┆           ┆           ┆           │\n",
       "│ de2c31b62 ┆ a3a9d191c ┆          ┆           ┆   ┆           ┆           ┆           ┆           │\n",
       "│ 343…      ┆ ea2…      ┆          ┆           ┆   ┆           ┆           ┆           ┆           │\n",
       "│ d2c9aab42 ┆ 419ce116a ┆ 1        ┆ 75000.0   ┆ … ┆ 0         ┆ 1         ┆ 0         ┆ 0         │\n",
       "│ 3e210c69f ┆ 516dd76d3 ┆          ┆           ┆   ┆           ┆           ┆           ┆           │\n",
       "│ 5b6443012 ┆ 1ccdbc3a9 ┆          ┆           ┆   ┆           ┆           ┆           ┆           │\n",
       "│ 35c…      ┆ 69c…      ┆          ┆           ┆   ┆           ┆           ┆           ┆           │\n",
       "│ 4ade40418 ┆ 00a2f6cee ┆ 1        ┆ 300000.0  ┆ … ┆ 0         ┆ 0         ┆ 0         ┆ 0         │\n",
       "│ 6269ec62d ┆ b04527785 ┆          ┆           ┆   ┆           ┆           ┆           ┆           │\n",
       "│ 2dd7d9e0e ┆ 36036f88d ┆          ┆           ┆   ┆           ┆           ┆           ┆           │\n",
       "│ d5f…      ┆ f38…      ┆          ┆           ┆   ┆           ┆           ┆           ┆           │\n",
       "└───────────┴───────────┴──────────┴───────────┴───┴───────────┴───────────┴───────────┴───────────┘"
      ]
     },
     "execution_count": 25,
     "metadata": {},
     "output_type": "execute_result"
    }
   ],
   "source": [
    "grouped_by_page_ad = (\n",
    "    df_ads\n",
    "    .group_by([\"page_id\", \"ad_id\"])\n",
    "    .agg([\n",
    "        pl.len().alias(\"ad_count\"),\n",
    "        *[pl.col(col).mean().alias(f\"{col}_mean\") for col in numeric_cols],\n",
    "        *[pl.col(col).std().alias(f\"{col}_std\") for col in numeric_cols],\n",
    "        *[pl.col(col).min().alias(f\"{col}_min\") for col in numeric_cols],\n",
    "        *[pl.col(col).max().alias(f\"{col}_max\") for col in numeric_cols]\n",
    "    ])\n",
    ")\n",
    "\n",
    "grouped_by_page_ad.head()"
   ]
  },
  {
   "cell_type": "markdown",
   "id": "2924112c-1524-45cb-a347-c18edf503dcf",
   "metadata": {},
   "source": [
    "## new dataset"
   ]
  },
  {
   "cell_type": "code",
   "execution_count": 28,
   "id": "5c506eed-82bc-4998-99d1-b352df260314",
   "metadata": {},
   "outputs": [
    {
     "data": {
      "text/html": [
       "<div><style>\n",
       ".dataframe > thead > tr,\n",
       ".dataframe > tbody > tr {\n",
       "  text-align: right;\n",
       "  white-space: pre-wrap;\n",
       "}\n",
       "</style>\n",
       "<small>shape: (5, 56)</small><table border=\"1\" class=\"dataframe\"><thead><tr><th>Facebook_Id</th><th>post_id</th><th>Page Category</th><th>Page Admin Top Country</th><th>Post Created</th><th>Post Created Date</th><th>Post Created Time</th><th>Type</th><th>Total Interactions</th><th>Likes</th><th>Comments</th><th>Shares</th><th>Love</th><th>Wow</th><th>Haha</th><th>Sad</th><th>Angry</th><th>Care</th><th>Video Share Status</th><th>Is Video Owner?</th><th>Post Views</th><th>Total Views</th><th>Total Views For All Crossposts</th><th>Video Length</th><th>Sponsor Id</th><th>Sponsor Name</th><th>Sponsor Category</th><th>Overperforming Score</th><th>illuminating_scored_messageelection_integrity_Truth_illuminating</th><th>advocacy_msg_type_illuminating</th><th>issue_msg_type_illuminating</th><th>attack_msg_type_illuminating</th><th>image_msg_type_illuminating</th><th>cta_msg_type_illuminating</th><th>engagement_cta_subtype_illuminating</th><th>fundraising_cta_subtype_illuminating</th><th>voting_cta_subtype_illuminating</th><th>covid_topic_illuminating</th><th>economy_topic_illuminating</th><th>education_topic_illuminating</th><th>environment_topic_illuminating</th><th>foreign_policy_topic_illuminating</th><th>governance_topic_illuminating</th><th>health_topic_illuminating</th><th>immigration_topic_illuminating</th><th>lgbtq_issues_topic_illuminating</th><th>military_topic_illuminating</th><th>race_and_ethnicity_topic_illuminating</th><th>safety_topic_illuminating</th><th>social_and_cultural_topic_illuminating</th><th>technology_and_privacy_topic_illuminating</th><th>womens_issue_topic_illuminating</th><th>incivility_illuminating</th><th>scam_illuminating</th><th>freefair_illuminating</th><th>fraud_illuminating</th></tr><tr><td>str</td><td>str</td><td>str</td><td>str</td><td>str</td><td>str</td><td>str</td><td>str</td><td>str</td><td>i64</td><td>i64</td><td>i64</td><td>i64</td><td>i64</td><td>i64</td><td>i64</td><td>i64</td><td>i64</td><td>str</td><td>str</td><td>f64</td><td>f64</td><td>f64</td><td>str</td><td>str</td><td>str</td><td>str</td><td>f64</td><td>str</td><td>i64</td><td>i64</td><td>i64</td><td>i64</td><td>i64</td><td>i64</td><td>i64</td><td>i64</td><td>i64</td><td>i64</td><td>i64</td><td>i64</td><td>i64</td><td>i64</td><td>i64</td><td>i64</td><td>i64</td><td>i64</td><td>i64</td><td>i64</td><td>i64</td><td>i64</td><td>i64</td><td>i64</td><td>f64</td><td>i64</td><td>i64</td></tr></thead><tbody><tr><td>&quot;a6cb7db6850459b954f7272e14d770…</td><td>&quot;8570b69695e00d8f06b12398ed5254…</td><td>&quot;PERSON&quot;</td><td>&quot;US&quot;</td><td>&quot;2023-09-04 19:31:16 EDT&quot;</td><td>&quot;2023-09-04&quot;</td><td>&quot;19:31:16&quot;</td><td>&quot;Photo&quot;</td><td>&quot;261&quot;</td><td>104</td><td>121</td><td>8</td><td>12</td><td>0</td><td>14</td><td>0</td><td>2</td><td>0</td><td>null</td><td>&quot;-&quot;</td><td>0.0</td><td>0.0</td><td>0.0</td><td>null</td><td>null</td><td>null</td><td>null</td><td>2.29</td><td>null</td><td>0</td><td>0</td><td>0</td><td>0</td><td>0</td><td>0</td><td>0</td><td>0</td><td>0</td><td>0</td><td>0</td><td>0</td><td>0</td><td>0</td><td>0</td><td>0</td><td>0</td><td>0</td><td>0</td><td>0</td><td>0</td><td>0</td><td>0</td><td>0</td><td>0.0</td><td>0</td><td>0</td></tr><tr><td>&quot;a6cb7db6850459b954f7272e14d770…</td><td>&quot;41ec27cecd8af40007a9faf8c3e5c9…</td><td>&quot;PERSON&quot;</td><td>&quot;US&quot;</td><td>&quot;2023-09-06 20:00:56 EDT&quot;</td><td>&quot;2023-09-06&quot;</td><td>&quot;20:00:56&quot;</td><td>&quot;Photo&quot;</td><td>&quot;135&quot;</td><td>71</td><td>41</td><td>7</td><td>11</td><td>1</td><td>3</td><td>1</td><td>0</td><td>0</td><td>null</td><td>&quot;-&quot;</td><td>0.0</td><td>0.0</td><td>0.0</td><td>null</td><td>null</td><td>null</td><td>null</td><td>1.18</td><td>null</td><td>1</td><td>1</td><td>0</td><td>0</td><td>0</td><td>0</td><td>0</td><td>0</td><td>0</td><td>0</td><td>1</td><td>0</td><td>0</td><td>0</td><td>0</td><td>0</td><td>0</td><td>0</td><td>0</td><td>0</td><td>0</td><td>0</td><td>0</td><td>0</td><td>0.0</td><td>0</td><td>0</td></tr><tr><td>&quot;a6cb7db6850459b954f7272e14d770…</td><td>&quot;1dcb5e00cd1c8d7ee141922f50f29e…</td><td>&quot;PERSON&quot;</td><td>&quot;US&quot;</td><td>&quot;2023-09-21 09:48:09 EDT&quot;</td><td>&quot;2023-09-21&quot;</td><td>&quot;09:48:09&quot;</td><td>&quot;Link&quot;</td><td>&quot;124&quot;</td><td>33</td><td>74</td><td>4</td><td>1</td><td>1</td><td>10</td><td>0</td><td>0</td><td>1</td><td>null</td><td>&quot;-&quot;</td><td>0.0</td><td>0.0</td><td>0.0</td><td>null</td><td>null</td><td>null</td><td>null</td><td>1.44</td><td>null</td><td>1</td><td>1</td><td>1</td><td>1</td><td>0</td><td>0</td><td>0</td><td>0</td><td>0</td><td>0</td><td>0</td><td>0</td><td>0</td><td>0</td><td>1</td><td>1</td><td>0</td><td>0</td><td>0</td><td>1</td><td>0</td><td>0</td><td>0</td><td>1</td><td>0.0</td><td>0</td><td>0</td></tr><tr><td>&quot;a6cb7db6850459b954f7272e14d770…</td><td>&quot;3e5e0a047865ab02fe0f49c3439632…</td><td>&quot;PERSON&quot;</td><td>&quot;US&quot;</td><td>&quot;2023-09-06 20:01:39 EDT&quot;</td><td>&quot;2023-09-06&quot;</td><td>&quot;20:01:39&quot;</td><td>&quot;Photo&quot;</td><td>&quot;109&quot;</td><td>34</td><td>64</td><td>3</td><td>6</td><td>0</td><td>2</td><td>0</td><td>0</td><td>0</td><td>null</td><td>&quot;-&quot;</td><td>0.0</td><td>0.0</td><td>0.0</td><td>null</td><td>null</td><td>null</td><td>null</td><td>-1.05</td><td>null</td><td>0</td><td>1</td><td>1</td><td>0</td><td>1</td><td>1</td><td>0</td><td>0</td><td>0</td><td>0</td><td>0</td><td>0</td><td>0</td><td>0</td><td>0</td><td>0</td><td>0</td><td>0</td><td>0</td><td>0</td><td>0</td><td>0</td><td>0</td><td>0</td><td>0.0</td><td>0</td><td>0</td></tr><tr><td>&quot;7ec2cb4abf8effe3d91de57944c56b…</td><td>&quot;b83adc0e8ac0aedd39f55b72d72372…</td><td>&quot;POLITICAL_CANDIDATE&quot;</td><td>&quot;US&quot;</td><td>&quot;2023-09-27 20:13:08 EDT&quot;</td><td>&quot;2023-09-27&quot;</td><td>&quot;20:13:08&quot;</td><td>&quot;Live Video Complete&quot;</td><td>&quot;268,841&quot;</td><td>126850</td><td>53191</td><td>20701</td><td>62827</td><td>162</td><td>2241</td><td>128</td><td>642</td><td>2099</td><td>&quot;crosspost&quot;</td><td>&quot;Yes&quot;</td><td>1.332813e6</td><td>1.468579e6</td><td>1.494352e6</td><td>&quot;01:08:20&quot;</td><td>null</td><td>null</td><td>null</td><td>2.79</td><td>null</td><td>0</td><td>0</td><td>0</td><td>0</td><td>0</td><td>0</td><td>0</td><td>0</td><td>0</td><td>0</td><td>0</td><td>0</td><td>0</td><td>0</td><td>0</td><td>0</td><td>0</td><td>0</td><td>0</td><td>0</td><td>0</td><td>0</td><td>0</td><td>0</td><td>0.0</td><td>0</td><td>0</td></tr></tbody></table></div>"
      ],
      "text/plain": [
       "shape: (5, 56)\n",
       "┌───────────┬───────────┬───────────┬───────────┬───┬───────────┬───────────┬───────────┬──────────┐\n",
       "│ Facebook_ ┆ post_id   ┆ Page      ┆ Page      ┆ … ┆ incivilit ┆ scam_illu ┆ freefair_ ┆ fraud_il │\n",
       "│ Id        ┆ ---       ┆ Category  ┆ Admin Top ┆   ┆ y_illumin ┆ minating  ┆ illuminat ┆ luminati │\n",
       "│ ---       ┆ str       ┆ ---       ┆ Country   ┆   ┆ ating     ┆ ---       ┆ ing       ┆ ng       │\n",
       "│ str       ┆           ┆ str       ┆ ---       ┆   ┆ ---       ┆ f64       ┆ ---       ┆ ---      │\n",
       "│           ┆           ┆           ┆ str       ┆   ┆ i64       ┆           ┆ i64       ┆ i64      │\n",
       "╞═══════════╪═══════════╪═══════════╪═══════════╪═══╪═══════════╪═══════════╪═══════════╪══════════╡\n",
       "│ a6cb7db68 ┆ 8570b6969 ┆ PERSON    ┆ US        ┆ … ┆ 0         ┆ 0.0       ┆ 0         ┆ 0        │\n",
       "│ 50459b954 ┆ 5e00d8f06 ┆           ┆           ┆   ┆           ┆           ┆           ┆          │\n",
       "│ f7272e14d ┆ b12398ed5 ┆           ┆           ┆   ┆           ┆           ┆           ┆          │\n",
       "│ 770…      ┆ 254…      ┆           ┆           ┆   ┆           ┆           ┆           ┆          │\n",
       "│ a6cb7db68 ┆ 41ec27cec ┆ PERSON    ┆ US        ┆ … ┆ 0         ┆ 0.0       ┆ 0         ┆ 0        │\n",
       "│ 50459b954 ┆ d8af40007 ┆           ┆           ┆   ┆           ┆           ┆           ┆          │\n",
       "│ f7272e14d ┆ a9faf8c3e ┆           ┆           ┆   ┆           ┆           ┆           ┆          │\n",
       "│ 770…      ┆ 5c9…      ┆           ┆           ┆   ┆           ┆           ┆           ┆          │\n",
       "│ a6cb7db68 ┆ 1dcb5e00c ┆ PERSON    ┆ US        ┆ … ┆ 1         ┆ 0.0       ┆ 0         ┆ 0        │\n",
       "│ 50459b954 ┆ d1c8d7ee1 ┆           ┆           ┆   ┆           ┆           ┆           ┆          │\n",
       "│ f7272e14d ┆ 41922f50f ┆           ┆           ┆   ┆           ┆           ┆           ┆          │\n",
       "│ 770…      ┆ 29e…      ┆           ┆           ┆   ┆           ┆           ┆           ┆          │\n",
       "│ a6cb7db68 ┆ 3e5e0a047 ┆ PERSON    ┆ US        ┆ … ┆ 0         ┆ 0.0       ┆ 0         ┆ 0        │\n",
       "│ 50459b954 ┆ 865ab02fe ┆           ┆           ┆   ┆           ┆           ┆           ┆          │\n",
       "│ f7272e14d ┆ 0f49c3439 ┆           ┆           ┆   ┆           ┆           ┆           ┆          │\n",
       "│ 770…      ┆ 632…      ┆           ┆           ┆   ┆           ┆           ┆           ┆          │\n",
       "│ 7ec2cb4ab ┆ b83adc0e8 ┆ POLITICAL ┆ US        ┆ … ┆ 0         ┆ 0.0       ┆ 0         ┆ 0        │\n",
       "│ f8effe3d9 ┆ ac0aedd39 ┆ _CANDIDAT ┆           ┆   ┆           ┆           ┆           ┆          │\n",
       "│ 1de57944c ┆ f55b72d72 ┆ E         ┆           ┆   ┆           ┆           ┆           ┆          │\n",
       "│ 56b…      ┆ 372…      ┆           ┆           ┆   ┆           ┆           ┆           ┆          │\n",
       "└───────────┴───────────┴───────────┴───────────┴───┴───────────┴───────────┴───────────┴──────────┘"
      ]
     },
     "execution_count": 28,
     "metadata": {},
     "output_type": "execute_result"
    }
   ],
   "source": [
    "import polars as pl\n",
    "\n",
    "# Load Facebook posts dataset\n",
    "df_posts = pl.read_csv(\"2024_fb_posts_president_scored_anon.csv\")\n",
    "df_posts.head()"
   ]
  },
  {
   "cell_type": "markdown",
   "id": "7004f07e-7526-44b0-89ef-6155b82ab8b5",
   "metadata": {},
   "source": [
    "## Numeric columns"
   ]
  },
  {
   "cell_type": "code",
   "execution_count": 30,
   "id": "8c762f08-7151-4c72-9cf2-064ddc3a817b",
   "metadata": {},
   "outputs": [
    {
     "data": {
      "text/plain": [
       "['Likes',\n",
       " 'Comments',\n",
       " 'Shares',\n",
       " 'Love',\n",
       " 'Wow',\n",
       " 'Haha',\n",
       " 'Sad',\n",
       " 'Angry',\n",
       " 'Care',\n",
       " 'Post Views',\n",
       " 'Total Views',\n",
       " 'Total Views For All Crossposts',\n",
       " 'Overperforming Score',\n",
       " 'advocacy_msg_type_illuminating',\n",
       " 'issue_msg_type_illuminating',\n",
       " 'attack_msg_type_illuminating',\n",
       " 'image_msg_type_illuminating',\n",
       " 'cta_msg_type_illuminating',\n",
       " 'engagement_cta_subtype_illuminating',\n",
       " 'fundraising_cta_subtype_illuminating',\n",
       " 'voting_cta_subtype_illuminating',\n",
       " 'covid_topic_illuminating',\n",
       " 'economy_topic_illuminating',\n",
       " 'education_topic_illuminating',\n",
       " 'environment_topic_illuminating',\n",
       " 'foreign_policy_topic_illuminating',\n",
       " 'governance_topic_illuminating',\n",
       " 'health_topic_illuminating',\n",
       " 'immigration_topic_illuminating',\n",
       " 'lgbtq_issues_topic_illuminating',\n",
       " 'military_topic_illuminating',\n",
       " 'race_and_ethnicity_topic_illuminating',\n",
       " 'safety_topic_illuminating',\n",
       " 'social_and_cultural_topic_illuminating',\n",
       " 'technology_and_privacy_topic_illuminating',\n",
       " 'womens_issue_topic_illuminating',\n",
       " 'incivility_illuminating',\n",
       " 'scam_illuminating',\n",
       " 'freefair_illuminating',\n",
       " 'fraud_illuminating']"
      ]
     },
     "execution_count": 30,
     "metadata": {},
     "output_type": "execute_result"
    }
   ],
   "source": [
    "numeric_cols = [col for col, dtype in zip(df_posts.columns, df_posts.dtypes)\n",
    "                if dtype in (pl.Int8, pl.Int16, pl.Int32, pl.Int64,\n",
    "                             pl.UInt8, pl.UInt16, pl.UInt32, pl.UInt64,\n",
    "                             pl.Float32, pl.Float64)]\n",
    "numeric_cols"
   ]
  },
  {
   "cell_type": "markdown",
   "id": "ad05576d-31ea-40b5-a72a-6d589a155c0c",
   "metadata": {},
   "source": [
    "## Descriptive stats"
   ]
  },
  {
   "cell_type": "code",
   "execution_count": 31,
   "id": "2c01a6c7-c505-4d38-9115-df28440dd659",
   "metadata": {},
   "outputs": [
    {
     "data": {
      "text/html": [
       "<div><style>\n",
       ".dataframe > thead > tr,\n",
       ".dataframe > tbody > tr {\n",
       "  text-align: right;\n",
       "  white-space: pre-wrap;\n",
       "}\n",
       "</style>\n",
       "<small>shape: (240, 1)</small><table border=\"1\" class=\"dataframe\"><thead><tr><th>column_0</th></tr><tr><td>f64</td></tr></thead><tbody><tr><td>19009.0</td></tr><tr><td>19009.0</td></tr><tr><td>19009.0</td></tr><tr><td>19009.0</td></tr><tr><td>19009.0</td></tr><tr><td>&hellip;</td></tr><tr><td>1.0</td></tr><tr><td>1.0</td></tr><tr><td>1.0</td></tr><tr><td>1.0</td></tr><tr><td>1.0</td></tr></tbody></table></div>"
      ],
      "text/plain": [
       "shape: (240, 1)\n",
       "┌──────────┐\n",
       "│ column_0 │\n",
       "│ ---      │\n",
       "│ f64      │\n",
       "╞══════════╡\n",
       "│ 19009.0  │\n",
       "│ 19009.0  │\n",
       "│ 19009.0  │\n",
       "│ 19009.0  │\n",
       "│ 19009.0  │\n",
       "│ …        │\n",
       "│ 1.0      │\n",
       "│ 1.0      │\n",
       "│ 1.0      │\n",
       "│ 1.0      │\n",
       "│ 1.0      │\n",
       "└──────────┘"
      ]
     },
     "execution_count": 31,
     "metadata": {},
     "output_type": "execute_result"
    }
   ],
   "source": [
    "summary_stats = df_posts.select(\n",
    "    [pl.col(col).count().alias(f\"{col}_count\") for col in numeric_cols] +\n",
    "    [pl.col(col).mean().alias(f\"{col}_mean\") for col in numeric_cols] +\n",
    "    [pl.col(col).median().alias(f\"{col}_median\") for col in numeric_cols] +\n",
    "    [pl.col(col).std().alias(f\"{col}_std\") for col in numeric_cols] +\n",
    "    [pl.col(col).min().alias(f\"{col}_min\") for col in numeric_cols] +\n",
    "    [pl.col(col).max().alias(f\"{col}_max\") for col in numeric_cols]\n",
    ")\n",
    "\n",
    "summary_stats.transpose()"
   ]
  },
  {
   "cell_type": "markdown",
   "id": "c7777d6b-43a2-491e-b910-6d26d41d3b00",
   "metadata": {},
   "source": [
    "## nunique()"
   ]
  },
  {
   "cell_type": "code",
   "execution_count": 32,
   "id": "1c70778d-190a-48e0-b916-04b66a3bc027",
   "metadata": {},
   "outputs": [
    {
     "data": {
      "text/html": [
       "<div><style>\n",
       ".dataframe > thead > tr,\n",
       ".dataframe > tbody > tr {\n",
       "  text-align: right;\n",
       "  white-space: pre-wrap;\n",
       "}\n",
       "</style>\n",
       "<small>shape: (56, 1)</small><table border=\"1\" class=\"dataframe\"><thead><tr><th>column_0</th></tr><tr><td>u32</td></tr></thead><tbody><tr><td>21</td></tr><tr><td>19009</td></tr><tr><td>7</td></tr><tr><td>2</td></tr><tr><td>18951</td></tr><tr><td>&hellip;</td></tr><tr><td>2</td></tr><tr><td>2</td></tr><tr><td>3</td></tr><tr><td>2</td></tr><tr><td>2</td></tr></tbody></table></div>"
      ],
      "text/plain": [
       "shape: (56, 1)\n",
       "┌──────────┐\n",
       "│ column_0 │\n",
       "│ ---      │\n",
       "│ u32      │\n",
       "╞══════════╡\n",
       "│ 21       │\n",
       "│ 19009    │\n",
       "│ 7        │\n",
       "│ 2        │\n",
       "│ 18951    │\n",
       "│ …        │\n",
       "│ 2        │\n",
       "│ 2        │\n",
       "│ 3        │\n",
       "│ 2        │\n",
       "│ 2        │\n",
       "└──────────┘"
      ]
     },
     "execution_count": 32,
     "metadata": {},
     "output_type": "execute_result"
    }
   ],
   "source": [
    "nunique_all = df_posts.select([\n",
    "    pl.col(col).n_unique().alias(f\"{col}_n_unique\") for col in df_posts.columns\n",
    "])\n",
    "\n",
    "nunique_all.transpose()"
   ]
  },
  {
   "cell_type": "markdown",
   "id": "be557347-8315-46f2-a3a1-dde48929f73f",
   "metadata": {},
   "source": [
    "## mode"
   ]
  },
  {
   "cell_type": "code",
   "execution_count": 34,
   "id": "9f6d4d4e-5e5e-4854-b025-fbc92bc42620",
   "metadata": {},
   "outputs": [
    {
     "data": {
      "text/html": [
       "<div><style>\n",
       ".dataframe > thead > tr,\n",
       ".dataframe > tbody > tr {\n",
       "  text-align: right;\n",
       "  white-space: pre-wrap;\n",
       "}\n",
       "</style>\n",
       "<small>shape: (56, 2)</small><table border=\"1\" class=\"dataframe\"><thead><tr><th>column</th><th>mode</th></tr><tr><td>str</td><td>str</td></tr></thead><tbody><tr><td>&quot;Facebook_Id&quot;</td><td>&quot;32fc18da91029ff09bf74fe9887eac…</td></tr><tr><td>&quot;post_id&quot;</td><td>&quot;bfb7acec0080e0a2c8b509988c9e4e…</td></tr><tr><td>&quot;Page Category&quot;</td><td>&quot;PERSON&quot;</td></tr><tr><td>&quot;Page Admin Top Country&quot;</td><td>&quot;US&quot;</td></tr><tr><td>&quot;Post Created&quot;</td><td>&quot;2024-10-31T22:20:49.000Z&quot;</td></tr><tr><td>&hellip;</td><td>&hellip;</td></tr><tr><td>&quot;womens_issue_topic_illuminatin…</td><td>&quot;0&quot;</td></tr><tr><td>&quot;incivility_illuminating&quot;</td><td>&quot;0&quot;</td></tr><tr><td>&quot;scam_illuminating&quot;</td><td>&quot;0&quot;</td></tr><tr><td>&quot;freefair_illuminating&quot;</td><td>&quot;0&quot;</td></tr><tr><td>&quot;fraud_illuminating&quot;</td><td>&quot;0&quot;</td></tr></tbody></table></div>"
      ],
      "text/plain": [
       "shape: (56, 2)\n",
       "┌─────────────────────────────────┬─────────────────────────────────┐\n",
       "│ column                          ┆ mode                            │\n",
       "│ ---                             ┆ ---                             │\n",
       "│ str                             ┆ str                             │\n",
       "╞═════════════════════════════════╪═════════════════════════════════╡\n",
       "│ Facebook_Id                     ┆ 32fc18da91029ff09bf74fe9887eac… │\n",
       "│ post_id                         ┆ bfb7acec0080e0a2c8b509988c9e4e… │\n",
       "│ Page Category                   ┆ PERSON                          │\n",
       "│ Page Admin Top Country          ┆ US                              │\n",
       "│ Post Created                    ┆ 2024-10-31T22:20:49.000Z        │\n",
       "│ …                               ┆ …                               │\n",
       "│ womens_issue_topic_illuminatin… ┆ 0                               │\n",
       "│ incivility_illuminating         ┆ 0                               │\n",
       "│ scam_illuminating               ┆ 0                               │\n",
       "│ freefair_illuminating           ┆ 0                               │\n",
       "│ fraud_illuminating              ┆ 0                               │\n",
       "└─────────────────────────────────┴─────────────────────────────────┘"
      ]
     },
     "execution_count": 34,
     "metadata": {},
     "output_type": "execute_result"
    }
   ],
   "source": [
    "import polars as pl\n",
    "\n",
    "modes_cleaned = []\n",
    "\n",
    "for col in df_posts.columns:\n",
    "    try:\n",
    "        # Filter nulls first to avoid issues\n",
    "        mode_df = (\n",
    "            df_posts\n",
    "            .filter(pl.col(col).is_not_null())\n",
    "            .group_by(col)\n",
    "            .agg(pl.len().alias(\"count\"))\n",
    "            .sort(\"count\", descending=True)\n",
    "        )\n",
    "\n",
    "        mode_val = mode_df[0, col] if mode_df.height > 0 else None\n",
    "    except Exception as e:\n",
    "        mode_val = None  # In case the column can't be grouped\n",
    "\n",
    "    modes_cleaned.append((col, mode_val))\n",
    "\n",
    "# Display as DataFrame\n",
    "df_mode = pl.DataFrame(modes_cleaned, schema=[\"column\", \"mode\"], orient=\"row\")\n",
    "df_mode"
   ]
  },
  {
   "cell_type": "markdown",
   "id": "c560a95b-aa6f-4287-a634-3fa0ec97a374",
   "metadata": {},
   "source": [
    "## Group by facebook id"
   ]
  },
  {
   "cell_type": "code",
   "execution_count": 37,
   "id": "ae44d84c-af7f-4caf-aecd-d0cb4b9a312f",
   "metadata": {},
   "outputs": [
    {
     "data": {
      "text/html": [
       "<div><style>\n",
       ".dataframe > thead > tr,\n",
       ".dataframe > tbody > tr {\n",
       "  text-align: right;\n",
       "  white-space: pre-wrap;\n",
       "}\n",
       "</style>\n",
       "<small>shape: (5, 162)</small><table border=\"1\" class=\"dataframe\"><thead><tr><th>Facebook_Id</th><th>post_count</th><th>Likes_mean</th><th>Comments_mean</th><th>Shares_mean</th><th>Love_mean</th><th>Wow_mean</th><th>Haha_mean</th><th>Sad_mean</th><th>Angry_mean</th><th>Care_mean</th><th>Post Views_mean</th><th>Total Views_mean</th><th>Total Views For All Crossposts_mean</th><th>Overperforming Score_mean</th><th>advocacy_msg_type_illuminating_mean</th><th>issue_msg_type_illuminating_mean</th><th>attack_msg_type_illuminating_mean</th><th>image_msg_type_illuminating_mean</th><th>cta_msg_type_illuminating_mean</th><th>engagement_cta_subtype_illuminating_mean</th><th>fundraising_cta_subtype_illuminating_mean</th><th>voting_cta_subtype_illuminating_mean</th><th>covid_topic_illuminating_mean</th><th>economy_topic_illuminating_mean</th><th>education_topic_illuminating_mean</th><th>environment_topic_illuminating_mean</th><th>foreign_policy_topic_illuminating_mean</th><th>governance_topic_illuminating_mean</th><th>health_topic_illuminating_mean</th><th>immigration_topic_illuminating_mean</th><th>lgbtq_issues_topic_illuminating_mean</th><th>military_topic_illuminating_mean</th><th>race_and_ethnicity_topic_illuminating_mean</th><th>safety_topic_illuminating_mean</th><th>social_and_cultural_topic_illuminating_mean</th><th>technology_and_privacy_topic_illuminating_mean</th><th>&hellip;</th><th>Love_max</th><th>Wow_max</th><th>Haha_max</th><th>Sad_max</th><th>Angry_max</th><th>Care_max</th><th>Post Views_max</th><th>Total Views_max</th><th>Total Views For All Crossposts_max</th><th>Overperforming Score_max</th><th>advocacy_msg_type_illuminating_max</th><th>issue_msg_type_illuminating_max</th><th>attack_msg_type_illuminating_max</th><th>image_msg_type_illuminating_max</th><th>cta_msg_type_illuminating_max</th><th>engagement_cta_subtype_illuminating_max</th><th>fundraising_cta_subtype_illuminating_max</th><th>voting_cta_subtype_illuminating_max</th><th>covid_topic_illuminating_max</th><th>economy_topic_illuminating_max</th><th>education_topic_illuminating_max</th><th>environment_topic_illuminating_max</th><th>foreign_policy_topic_illuminating_max</th><th>governance_topic_illuminating_max</th><th>health_topic_illuminating_max</th><th>immigration_topic_illuminating_max</th><th>lgbtq_issues_topic_illuminating_max</th><th>military_topic_illuminating_max</th><th>race_and_ethnicity_topic_illuminating_max</th><th>safety_topic_illuminating_max</th><th>social_and_cultural_topic_illuminating_max</th><th>technology_and_privacy_topic_illuminating_max</th><th>womens_issue_topic_illuminating_max</th><th>incivility_illuminating_max</th><th>scam_illuminating_max</th><th>freefair_illuminating_max</th><th>fraud_illuminating_max</th></tr><tr><td>str</td><td>u32</td><td>f64</td><td>f64</td><td>f64</td><td>f64</td><td>f64</td><td>f64</td><td>f64</td><td>f64</td><td>f64</td><td>f64</td><td>f64</td><td>f64</td><td>f64</td><td>f64</td><td>f64</td><td>f64</td><td>f64</td><td>f64</td><td>f64</td><td>f64</td><td>f64</td><td>f64</td><td>f64</td><td>f64</td><td>f64</td><td>f64</td><td>f64</td><td>f64</td><td>f64</td><td>f64</td><td>f64</td><td>f64</td><td>f64</td><td>f64</td><td>f64</td><td>&hellip;</td><td>i64</td><td>i64</td><td>i64</td><td>i64</td><td>i64</td><td>i64</td><td>f64</td><td>f64</td><td>f64</td><td>f64</td><td>i64</td><td>i64</td><td>i64</td><td>i64</td><td>i64</td><td>i64</td><td>i64</td><td>i64</td><td>i64</td><td>i64</td><td>i64</td><td>i64</td><td>i64</td><td>i64</td><td>i64</td><td>i64</td><td>i64</td><td>i64</td><td>i64</td><td>i64</td><td>i64</td><td>i64</td><td>i64</td><td>i64</td><td>f64</td><td>i64</td><td>i64</td></tr></thead><tbody><tr><td>&quot;fedbfaab19b5112a6889b862314ca9…</td><td>643</td><td>3246.541213</td><td>647.874028</td><td>830.566096</td><td>427.475894</td><td>20.410575</td><td>19.950233</td><td>13.437014</td><td>16.085537</td><td>52.951788</td><td>15293.945155</td><td>18135.469835</td><td>0.0</td><td>0.274863</td><td>0.642302</td><td>0.440124</td><td>0.161742</td><td>0.202177</td><td>0.321928</td><td>0.135303</td><td>0.150855</td><td>0.010886</td><td>0.088647</td><td>0.11353</td><td>0.004666</td><td>0.060653</td><td>0.010886</td><td>0.037325</td><td>0.068429</td><td>0.03577</td><td>0.0</td><td>0.007776</td><td>0.020218</td><td>0.021773</td><td>0.027994</td><td>0.00311</td><td>&hellip;</td><td>8467</td><td>3337</td><td>1725</td><td>2440</td><td>1589</td><td>9364</td><td>2.842336e6</td><td>3.04004e6</td><td>0.0</td><td>29.95</td><td>1</td><td>1</td><td>1</td><td>1</td><td>1</td><td>1</td><td>1</td><td>1</td><td>1</td><td>1</td><td>1</td><td>1</td><td>1</td><td>1</td><td>1</td><td>1</td><td>0</td><td>1</td><td>1</td><td>1</td><td>1</td><td>1</td><td>1</td><td>1</td><td>1.0</td><td>0</td><td>1</td></tr><tr><td>&quot;7ec2cb4abf8effe3d91de57944c56b…</td><td>616</td><td>39394.847403</td><td>13920.444805</td><td>4835.732143</td><td>8089.590909</td><td>54.681818</td><td>887.204545</td><td>149.082792</td><td>144.047078</td><td>509.189935</td><td>172083.198324</td><td>186387.578212</td><td>163542.486034</td><td>-2.31176</td><td>0.237013</td><td>0.11039</td><td>0.066558</td><td>0.056818</td><td>0.334416</td><td>0.183442</td><td>0.00487</td><td>0.121753</td><td>0.297078</td><td>0.016234</td><td>0.003247</td><td>0.0</td><td>0.001623</td><td>0.008117</td><td>0.001623</td><td>0.016234</td><td>0.0</td><td>0.0</td><td>0.006494</td><td>0.006494</td><td>0.00487</td><td>0.0</td><td>&hellip;</td><td>244482</td><td>4345</td><td>99276</td><td>56111</td><td>11814</td><td>85236</td><td>4.276477e6</td><td>4.462155e6</td><td>4.499458e6</td><td>8.73</td><td>1</td><td>1</td><td>1</td><td>1</td><td>1</td><td>1</td><td>1</td><td>1</td><td>1</td><td>1</td><td>1</td><td>0</td><td>1</td><td>1</td><td>1</td><td>1</td><td>0</td><td>0</td><td>1</td><td>1</td><td>1</td><td>0</td><td>1</td><td>1</td><td>1.0</td><td>0</td><td>1</td></tr><tr><td>&quot;a6cb7db6850459b954f7272e14d770…</td><td>29</td><td>50.448276</td><td>46.793103</td><td>3.586207</td><td>4.068966</td><td>0.241379</td><td>8.137931</td><td>0.551724</td><td>0.482759</td><td>1.206897</td><td>59.172414</td><td>59.965517</td><td>0.0</td><td>-0.676552</td><td>0.551724</td><td>0.310345</td><td>0.172414</td><td>0.137931</td><td>0.62069</td><td>0.413793</td><td>0.034483</td><td>0.103448</td><td>0.034483</td><td>0.034483</td><td>0.034483</td><td>0.034483</td><td>0.034483</td><td>0.034483</td><td>0.068966</td><td>0.068966</td><td>0.0</td><td>0.0</td><td>0.0</td><td>0.068966</td><td>0.0</td><td>0.034483</td><td>&hellip;</td><td>17</td><td>1</td><td>36</td><td>12</td><td>2</td><td>12</td><td>1716.0</td><td>1739.0</td><td>0.0</td><td>3.98</td><td>1</td><td>1</td><td>1</td><td>1</td><td>1</td><td>1</td><td>1</td><td>1</td><td>1</td><td>1</td><td>1</td><td>1</td><td>1</td><td>1</td><td>1</td><td>1</td><td>0</td><td>0</td><td>0</td><td>1</td><td>0</td><td>1</td><td>0</td><td>1</td><td>0.0</td><td>0</td><td>0</td></tr><tr><td>&quot;8e8dac0ee6f22255b9d9365845a7fb…</td><td>269</td><td>5441.33829</td><td>989.591078</td><td>235.587361</td><td>1376.197026</td><td>3.32342</td><td>31.479554</td><td>13.453532</td><td>11.840149</td><td>122.092937</td><td>2029.111111</td><td>2819.844444</td><td>0.0</td><td>1.779422</td><td>0.643123</td><td>0.36803</td><td>0.156134</td><td>0.204461</td><td>0.081784</td><td>0.033457</td><td>0.007435</td><td>0.037175</td><td>0.018587</td><td>0.074349</td><td>0.033457</td><td>0.003717</td><td>0.018587</td><td>0.003717</td><td>0.011152</td><td>0.092937</td><td>0.0</td><td>0.018587</td><td>0.04461</td><td>0.074349</td><td>0.033457</td><td>0.0</td><td>&hellip;</td><td>40724</td><td>156</td><td>762</td><td>1254</td><td>539</td><td>4928</td><td>201330.0</td><td>202833.0</td><td>0.0</td><td>47.82</td><td>1</td><td>1</td><td>1</td><td>1</td><td>1</td><td>1</td><td>1</td><td>1</td><td>1</td><td>1</td><td>1</td><td>1</td><td>1</td><td>1</td><td>1</td><td>1</td><td>0</td><td>1</td><td>1</td><td>1</td><td>1</td><td>0</td><td>1</td><td>1</td><td>1.0</td><td>0</td><td>0</td></tr><tr><td>&quot;b9d563b713eeb6c6b73092e53d377f…</td><td>310</td><td>157.96129</td><td>188.441935</td><td>17.177419</td><td>22.716129</td><td>0.629032</td><td>35.53871</td><td>1.009677</td><td>6.977419</td><td>3.254839</td><td>1049.208333</td><td>1091.569444</td><td>0.0</td><td>-7.742222</td><td>0.683871</td><td>0.551613</td><td>0.174194</td><td>0.1</td><td>0.070968</td><td>0.06129</td><td>0.006452</td><td>0.0</td><td>0.022581</td><td>0.106452</td><td>0.009677</td><td>0.012903</td><td>0.125806</td><td>0.016129</td><td>0.051613</td><td>0.03871</td><td>0.0</td><td>0.009677</td><td>0.0</td><td>0.025806</td><td>0.058065</td><td>0.0</td><td>&hellip;</td><td>1055</td><td>20</td><td>892</td><td>46</td><td>234</td><td>73</td><td>99278.0</td><td>99753.0</td><td>0.0</td><td>6.75</td><td>1</td><td>1</td><td>1</td><td>1</td><td>1</td><td>1</td><td>1</td><td>0</td><td>1</td><td>1</td><td>1</td><td>1</td><td>1</td><td>1</td><td>1</td><td>1</td><td>0</td><td>1</td><td>0</td><td>1</td><td>1</td><td>0</td><td>1</td><td>1</td><td>1.0</td><td>0</td><td>0</td></tr></tbody></table></div>"
      ],
      "text/plain": [
       "shape: (5, 162)\n",
       "┌───────────┬───────────┬───────────┬───────────┬───┬───────────┬───────────┬───────────┬──────────┐\n",
       "│ Facebook_ ┆ post_coun ┆ Likes_mea ┆ Comments_ ┆ … ┆ incivilit ┆ scam_illu ┆ freefair_ ┆ fraud_il │\n",
       "│ Id        ┆ t         ┆ n         ┆ mean      ┆   ┆ y_illumin ┆ minating_ ┆ illuminat ┆ luminati │\n",
       "│ ---       ┆ ---       ┆ ---       ┆ ---       ┆   ┆ ating_max ┆ max       ┆ ing_max   ┆ ng_max   │\n",
       "│ str       ┆ u32       ┆ f64       ┆ f64       ┆   ┆ ---       ┆ ---       ┆ ---       ┆ ---      │\n",
       "│           ┆           ┆           ┆           ┆   ┆ i64       ┆ f64       ┆ i64       ┆ i64      │\n",
       "╞═══════════╪═══════════╪═══════════╪═══════════╪═══╪═══════════╪═══════════╪═══════════╪══════════╡\n",
       "│ fedbfaab1 ┆ 643       ┆ 3246.5412 ┆ 647.87402 ┆ … ┆ 1         ┆ 1.0       ┆ 0         ┆ 1        │\n",
       "│ 9b5112a68 ┆           ┆ 13        ┆ 8         ┆   ┆           ┆           ┆           ┆          │\n",
       "│ 89b862314 ┆           ┆           ┆           ┆   ┆           ┆           ┆           ┆          │\n",
       "│ ca9…      ┆           ┆           ┆           ┆   ┆           ┆           ┆           ┆          │\n",
       "│ 7ec2cb4ab ┆ 616       ┆ 39394.847 ┆ 13920.444 ┆ … ┆ 1         ┆ 1.0       ┆ 0         ┆ 1        │\n",
       "│ f8effe3d9 ┆           ┆ 403       ┆ 805       ┆   ┆           ┆           ┆           ┆          │\n",
       "│ 1de57944c ┆           ┆           ┆           ┆   ┆           ┆           ┆           ┆          │\n",
       "│ 56b…      ┆           ┆           ┆           ┆   ┆           ┆           ┆           ┆          │\n",
       "│ a6cb7db68 ┆ 29        ┆ 50.448276 ┆ 46.793103 ┆ … ┆ 1         ┆ 0.0       ┆ 0         ┆ 0        │\n",
       "│ 50459b954 ┆           ┆           ┆           ┆   ┆           ┆           ┆           ┆          │\n",
       "│ f7272e14d ┆           ┆           ┆           ┆   ┆           ┆           ┆           ┆          │\n",
       "│ 770…      ┆           ┆           ┆           ┆   ┆           ┆           ┆           ┆          │\n",
       "│ 8e8dac0ee ┆ 269       ┆ 5441.3382 ┆ 989.59107 ┆ … ┆ 1         ┆ 1.0       ┆ 0         ┆ 0        │\n",
       "│ 6f22255b9 ┆           ┆ 9         ┆ 8         ┆   ┆           ┆           ┆           ┆          │\n",
       "│ d9365845a ┆           ┆           ┆           ┆   ┆           ┆           ┆           ┆          │\n",
       "│ 7fb…      ┆           ┆           ┆           ┆   ┆           ┆           ┆           ┆          │\n",
       "│ b9d563b71 ┆ 310       ┆ 157.96129 ┆ 188.44193 ┆ … ┆ 1         ┆ 1.0       ┆ 0         ┆ 0        │\n",
       "│ 3eeb6c6b7 ┆           ┆           ┆ 5         ┆   ┆           ┆           ┆           ┆          │\n",
       "│ 3092e53d3 ┆           ┆           ┆           ┆   ┆           ┆           ┆           ┆          │\n",
       "│ 77f…      ┆           ┆           ┆           ┆   ┆           ┆           ┆           ┆          │\n",
       "└───────────┴───────────┴───────────┴───────────┴───┴───────────┴───────────┴───────────┴──────────┘"
      ]
     },
     "execution_count": 37,
     "metadata": {},
     "output_type": "execute_result"
    }
   ],
   "source": [
    "grouped_by_fbid = (\n",
    "    df_posts\n",
    "    .group_by(\"Facebook_Id\")  # <- corrected column name\n",
    "    .agg([\n",
    "        pl.len().alias(\"post_count\"),\n",
    "        *[pl.col(col).mean().alias(f\"{col}_mean\") for col in numeric_cols],\n",
    "        *[pl.col(col).std().alias(f\"{col}_std\") for col in numeric_cols],\n",
    "        *[pl.col(col).min().alias(f\"{col}_min\") for col in numeric_cols],\n",
    "        *[pl.col(col).max().alias(f\"{col}_max\") for col in numeric_cols]\n",
    "    ])\n",
    ")\n",
    "\n",
    "grouped_by_fbid.head()"
   ]
  },
  {
   "cell_type": "markdown",
   "id": "cdaf3453-0563-47e9-a288-488772980780",
   "metadata": {},
   "source": [
    "## Group by facebook_id and post_id"
   ]
  },
  {
   "cell_type": "code",
   "execution_count": 38,
   "id": "b9678623-97bc-4558-b407-df8d2d757256",
   "metadata": {},
   "outputs": [
    {
     "data": {
      "text/html": [
       "<div><style>\n",
       ".dataframe > thead > tr,\n",
       ".dataframe > tbody > tr {\n",
       "  text-align: right;\n",
       "  white-space: pre-wrap;\n",
       "}\n",
       "</style>\n",
       "<small>shape: (5, 163)</small><table border=\"1\" class=\"dataframe\"><thead><tr><th>Facebook_Id</th><th>post_id</th><th>post_count</th><th>Likes_mean</th><th>Comments_mean</th><th>Shares_mean</th><th>Love_mean</th><th>Wow_mean</th><th>Haha_mean</th><th>Sad_mean</th><th>Angry_mean</th><th>Care_mean</th><th>Post Views_mean</th><th>Total Views_mean</th><th>Total Views For All Crossposts_mean</th><th>Overperforming Score_mean</th><th>advocacy_msg_type_illuminating_mean</th><th>issue_msg_type_illuminating_mean</th><th>attack_msg_type_illuminating_mean</th><th>image_msg_type_illuminating_mean</th><th>cta_msg_type_illuminating_mean</th><th>engagement_cta_subtype_illuminating_mean</th><th>fundraising_cta_subtype_illuminating_mean</th><th>voting_cta_subtype_illuminating_mean</th><th>covid_topic_illuminating_mean</th><th>economy_topic_illuminating_mean</th><th>education_topic_illuminating_mean</th><th>environment_topic_illuminating_mean</th><th>foreign_policy_topic_illuminating_mean</th><th>governance_topic_illuminating_mean</th><th>health_topic_illuminating_mean</th><th>immigration_topic_illuminating_mean</th><th>lgbtq_issues_topic_illuminating_mean</th><th>military_topic_illuminating_mean</th><th>race_and_ethnicity_topic_illuminating_mean</th><th>safety_topic_illuminating_mean</th><th>social_and_cultural_topic_illuminating_mean</th><th>&hellip;</th><th>Love_max</th><th>Wow_max</th><th>Haha_max</th><th>Sad_max</th><th>Angry_max</th><th>Care_max</th><th>Post Views_max</th><th>Total Views_max</th><th>Total Views For All Crossposts_max</th><th>Overperforming Score_max</th><th>advocacy_msg_type_illuminating_max</th><th>issue_msg_type_illuminating_max</th><th>attack_msg_type_illuminating_max</th><th>image_msg_type_illuminating_max</th><th>cta_msg_type_illuminating_max</th><th>engagement_cta_subtype_illuminating_max</th><th>fundraising_cta_subtype_illuminating_max</th><th>voting_cta_subtype_illuminating_max</th><th>covid_topic_illuminating_max</th><th>economy_topic_illuminating_max</th><th>education_topic_illuminating_max</th><th>environment_topic_illuminating_max</th><th>foreign_policy_topic_illuminating_max</th><th>governance_topic_illuminating_max</th><th>health_topic_illuminating_max</th><th>immigration_topic_illuminating_max</th><th>lgbtq_issues_topic_illuminating_max</th><th>military_topic_illuminating_max</th><th>race_and_ethnicity_topic_illuminating_max</th><th>safety_topic_illuminating_max</th><th>social_and_cultural_topic_illuminating_max</th><th>technology_and_privacy_topic_illuminating_max</th><th>womens_issue_topic_illuminating_max</th><th>incivility_illuminating_max</th><th>scam_illuminating_max</th><th>freefair_illuminating_max</th><th>fraud_illuminating_max</th></tr><tr><td>str</td><td>str</td><td>u32</td><td>f64</td><td>f64</td><td>f64</td><td>f64</td><td>f64</td><td>f64</td><td>f64</td><td>f64</td><td>f64</td><td>f64</td><td>f64</td><td>f64</td><td>f64</td><td>f64</td><td>f64</td><td>f64</td><td>f64</td><td>f64</td><td>f64</td><td>f64</td><td>f64</td><td>f64</td><td>f64</td><td>f64</td><td>f64</td><td>f64</td><td>f64</td><td>f64</td><td>f64</td><td>f64</td><td>f64</td><td>f64</td><td>f64</td><td>f64</td><td>&hellip;</td><td>i64</td><td>i64</td><td>i64</td><td>i64</td><td>i64</td><td>i64</td><td>f64</td><td>f64</td><td>f64</td><td>f64</td><td>i64</td><td>i64</td><td>i64</td><td>i64</td><td>i64</td><td>i64</td><td>i64</td><td>i64</td><td>i64</td><td>i64</td><td>i64</td><td>i64</td><td>i64</td><td>i64</td><td>i64</td><td>i64</td><td>i64</td><td>i64</td><td>i64</td><td>i64</td><td>i64</td><td>i64</td><td>i64</td><td>i64</td><td>f64</td><td>i64</td><td>i64</td></tr></thead><tbody><tr><td>&quot;8e8dac0ee6f22255b9d9365845a7fb…</td><td>&quot;23acfeb01ef2ea51c318dcf2782ae8…</td><td>1</td><td>803.0</td><td>180.0</td><td>24.0</td><td>141.0</td><td>1.0</td><td>7.0</td><td>0.0</td><td>2.0</td><td>2.0</td><td>0.0</td><td>0.0</td><td>0.0</td><td>-2.41</td><td>0.0</td><td>0.0</td><td>0.0</td><td>0.0</td><td>0.0</td><td>0.0</td><td>0.0</td><td>0.0</td><td>0.0</td><td>0.0</td><td>0.0</td><td>0.0</td><td>0.0</td><td>0.0</td><td>0.0</td><td>0.0</td><td>0.0</td><td>0.0</td><td>0.0</td><td>0.0</td><td>0.0</td><td>&hellip;</td><td>141</td><td>1</td><td>7</td><td>0</td><td>2</td><td>2</td><td>0.0</td><td>0.0</td><td>0.0</td><td>-2.41</td><td>0</td><td>0</td><td>0</td><td>0</td><td>0</td><td>0</td><td>0</td><td>0</td><td>0</td><td>0</td><td>0</td><td>0</td><td>0</td><td>0</td><td>0</td><td>0</td><td>0</td><td>0</td><td>0</td><td>0</td><td>0</td><td>0</td><td>0</td><td>0</td><td>0.0</td><td>0</td><td>0</td></tr><tr><td>&quot;ac24f31c4d4b3d5555065fa9558bdc…</td><td>&quot;b88db921b50c08897d53af0d8f5b4c…</td><td>1</td><td>1367.0</td><td>724.0</td><td>114.0</td><td>355.0</td><td>2.0</td><td>146.0</td><td>2.0</td><td>6.0</td><td>33.0</td><td>0.0</td><td>0.0</td><td>0.0</td><td>1.22</td><td>1.0</td><td>1.0</td><td>0.0</td><td>0.0</td><td>0.0</td><td>0.0</td><td>0.0</td><td>0.0</td><td>0.0</td><td>1.0</td><td>0.0</td><td>0.0</td><td>0.0</td><td>0.0</td><td>1.0</td><td>0.0</td><td>0.0</td><td>0.0</td><td>0.0</td><td>0.0</td><td>0.0</td><td>&hellip;</td><td>355</td><td>2</td><td>146</td><td>2</td><td>6</td><td>33</td><td>0.0</td><td>0.0</td><td>0.0</td><td>1.22</td><td>1</td><td>1</td><td>0</td><td>0</td><td>0</td><td>0</td><td>0</td><td>0</td><td>0</td><td>1</td><td>0</td><td>0</td><td>0</td><td>0</td><td>1</td><td>0</td><td>0</td><td>0</td><td>0</td><td>0</td><td>0</td><td>0</td><td>0</td><td>0</td><td>0.0</td><td>0</td><td>0</td></tr><tr><td>&quot;32fc18da91029ff09bf74fe9887eac…</td><td>&quot;b5388e112293dfae1f73ef85ce7736…</td><td>1</td><td>6.0</td><td>6.0</td><td>2.0</td><td>0.0</td><td>5.0</td><td>0.0</td><td>0.0</td><td>27.0</td><td>0.0</td><td>0.0</td><td>0.0</td><td>0.0</td><td>-6.89</td><td>1.0</td><td>1.0</td><td>0.0</td><td>0.0</td><td>0.0</td><td>0.0</td><td>0.0</td><td>0.0</td><td>0.0</td><td>0.0</td><td>0.0</td><td>0.0</td><td>0.0</td><td>0.0</td><td>0.0</td><td>0.0</td><td>0.0</td><td>0.0</td><td>0.0</td><td>0.0</td><td>0.0</td><td>&hellip;</td><td>0</td><td>5</td><td>0</td><td>0</td><td>27</td><td>0</td><td>0.0</td><td>0.0</td><td>0.0</td><td>-6.89</td><td>1</td><td>1</td><td>0</td><td>0</td><td>0</td><td>0</td><td>0</td><td>0</td><td>0</td><td>0</td><td>0</td><td>0</td><td>0</td><td>0</td><td>0</td><td>0</td><td>0</td><td>0</td><td>0</td><td>0</td><td>0</td><td>0</td><td>0</td><td>0</td><td>null</td><td>0</td><td>0</td></tr><tr><td>&quot;b1daf9f2909abed80b7e02520dfd0b…</td><td>&quot;fff57e7ee1cc7c1377e1c1ab57174a…</td><td>1</td><td>232.0</td><td>301.0</td><td>92.0</td><td>79.0</td><td>0.0</td><td>83.0</td><td>0.0</td><td>2.0</td><td>7.0</td><td>2165.0</td><td>2771.0</td><td>0.0</td><td>-1.16</td><td>0.0</td><td>0.0</td><td>0.0</td><td>0.0</td><td>0.0</td><td>0.0</td><td>0.0</td><td>0.0</td><td>0.0</td><td>0.0</td><td>0.0</td><td>0.0</td><td>0.0</td><td>0.0</td><td>0.0</td><td>0.0</td><td>0.0</td><td>0.0</td><td>0.0</td><td>0.0</td><td>0.0</td><td>&hellip;</td><td>79</td><td>0</td><td>83</td><td>0</td><td>2</td><td>7</td><td>2165.0</td><td>2771.0</td><td>0.0</td><td>-1.16</td><td>0</td><td>0</td><td>0</td><td>0</td><td>0</td><td>0</td><td>0</td><td>0</td><td>0</td><td>0</td><td>0</td><td>0</td><td>0</td><td>0</td><td>0</td><td>0</td><td>0</td><td>0</td><td>0</td><td>0</td><td>0</td><td>0</td><td>0</td><td>0</td><td>0.0</td><td>0</td><td>0</td></tr><tr><td>&quot;ac24f31c4d4b3d5555065fa9558bdc…</td><td>&quot;383f62e8c2ec1fac431344672657d6…</td><td>1</td><td>60465.0</td><td>13965.0</td><td>8701.0</td><td>0.0</td><td>0.0</td><td>0.0</td><td>0.0</td><td>0.0</td><td>0.0</td><td>null</td><td>null</td><td>null</td><td>null</td><td>1.0</td><td>1.0</td><td>0.0</td><td>0.0</td><td>0.0</td><td>0.0</td><td>0.0</td><td>0.0</td><td>0.0</td><td>1.0</td><td>0.0</td><td>0.0</td><td>0.0</td><td>0.0</td><td>0.0</td><td>0.0</td><td>0.0</td><td>0.0</td><td>0.0</td><td>0.0</td><td>0.0</td><td>&hellip;</td><td>0</td><td>0</td><td>0</td><td>0</td><td>0</td><td>0</td><td>null</td><td>null</td><td>null</td><td>null</td><td>1</td><td>1</td><td>0</td><td>0</td><td>0</td><td>0</td><td>0</td><td>0</td><td>0</td><td>1</td><td>0</td><td>0</td><td>0</td><td>0</td><td>0</td><td>0</td><td>0</td><td>0</td><td>0</td><td>0</td><td>0</td><td>0</td><td>0</td><td>0</td><td>0.0</td><td>0</td><td>0</td></tr></tbody></table></div>"
      ],
      "text/plain": [
       "shape: (5, 163)\n",
       "┌───────────┬───────────┬───────────┬───────────┬───┬───────────┬───────────┬───────────┬──────────┐\n",
       "│ Facebook_ ┆ post_id   ┆ post_coun ┆ Likes_mea ┆ … ┆ incivilit ┆ scam_illu ┆ freefair_ ┆ fraud_il │\n",
       "│ Id        ┆ ---       ┆ t         ┆ n         ┆   ┆ y_illumin ┆ minating_ ┆ illuminat ┆ luminati │\n",
       "│ ---       ┆ str       ┆ ---       ┆ ---       ┆   ┆ ating_max ┆ max       ┆ ing_max   ┆ ng_max   │\n",
       "│ str       ┆           ┆ u32       ┆ f64       ┆   ┆ ---       ┆ ---       ┆ ---       ┆ ---      │\n",
       "│           ┆           ┆           ┆           ┆   ┆ i64       ┆ f64       ┆ i64       ┆ i64      │\n",
       "╞═══════════╪═══════════╪═══════════╪═══════════╪═══╪═══════════╪═══════════╪═══════════╪══════════╡\n",
       "│ 8e8dac0ee ┆ 23acfeb01 ┆ 1         ┆ 803.0     ┆ … ┆ 0         ┆ 0.0       ┆ 0         ┆ 0        │\n",
       "│ 6f22255b9 ┆ ef2ea51c3 ┆           ┆           ┆   ┆           ┆           ┆           ┆          │\n",
       "│ d9365845a ┆ 18dcf2782 ┆           ┆           ┆   ┆           ┆           ┆           ┆          │\n",
       "│ 7fb…      ┆ ae8…      ┆           ┆           ┆   ┆           ┆           ┆           ┆          │\n",
       "│ ac24f31c4 ┆ b88db921b ┆ 1         ┆ 1367.0    ┆ … ┆ 0         ┆ 0.0       ┆ 0         ┆ 0        │\n",
       "│ d4b3d5555 ┆ 50c08897d ┆           ┆           ┆   ┆           ┆           ┆           ┆          │\n",
       "│ 065fa9558 ┆ 53af0d8f5 ┆           ┆           ┆   ┆           ┆           ┆           ┆          │\n",
       "│ bdc…      ┆ b4c…      ┆           ┆           ┆   ┆           ┆           ┆           ┆          │\n",
       "│ 32fc18da9 ┆ b5388e112 ┆ 1         ┆ 6.0       ┆ … ┆ 0         ┆ null      ┆ 0         ┆ 0        │\n",
       "│ 1029ff09b ┆ 293dfae1f ┆           ┆           ┆   ┆           ┆           ┆           ┆          │\n",
       "│ f74fe9887 ┆ 73ef85ce7 ┆           ┆           ┆   ┆           ┆           ┆           ┆          │\n",
       "│ eac…      ┆ 736…      ┆           ┆           ┆   ┆           ┆           ┆           ┆          │\n",
       "│ b1daf9f29 ┆ fff57e7ee ┆ 1         ┆ 232.0     ┆ … ┆ 0         ┆ 0.0       ┆ 0         ┆ 0        │\n",
       "│ 09abed80b ┆ 1cc7c1377 ┆           ┆           ┆   ┆           ┆           ┆           ┆          │\n",
       "│ 7e02520df ┆ e1c1ab571 ┆           ┆           ┆   ┆           ┆           ┆           ┆          │\n",
       "│ d0b…      ┆ 74a…      ┆           ┆           ┆   ┆           ┆           ┆           ┆          │\n",
       "│ ac24f31c4 ┆ 383f62e8c ┆ 1         ┆ 60465.0   ┆ … ┆ 0         ┆ 0.0       ┆ 0         ┆ 0        │\n",
       "│ d4b3d5555 ┆ 2ec1fac43 ┆           ┆           ┆   ┆           ┆           ┆           ┆          │\n",
       "│ 065fa9558 ┆ 134467265 ┆           ┆           ┆   ┆           ┆           ┆           ┆          │\n",
       "│ bdc…      ┆ 7d6…      ┆           ┆           ┆   ┆           ┆           ┆           ┆          │\n",
       "└───────────┴───────────┴───────────┴───────────┴───┴───────────┴───────────┴───────────┴──────────┘"
      ]
     },
     "execution_count": 38,
     "metadata": {},
     "output_type": "execute_result"
    }
   ],
   "source": [
    "grouped_by_fbid_postid = (\n",
    "    df_posts\n",
    "    .group_by([\"Facebook_Id\", \"post_id\"])  # Correct column names\n",
    "    .agg([\n",
    "        pl.len().alias(\"post_count\"),\n",
    "        *[pl.col(col).mean().alias(f\"{col}_mean\") for col in numeric_cols],\n",
    "        *[pl.col(col).std().alias(f\"{col}_std\") for col in numeric_cols],\n",
    "        *[pl.col(col).min().alias(f\"{col}_min\") for col in numeric_cols],\n",
    "        *[pl.col(col).max().alias(f\"{col}_max\") for col in numeric_cols]\n",
    "    ])\n",
    ")\n",
    "\n",
    "grouped_by_fbid_postid.head()"
   ]
  },
  {
   "cell_type": "markdown",
   "id": "1a465c97-1937-47a4-bb2c-ba10712276ef",
   "metadata": {},
   "source": [
    "## Now we will load a new dataset"
   ]
  },
  {
   "cell_type": "code",
   "execution_count": 40,
   "id": "31661986-d47b-4030-a299-c5a3dab80f1e",
   "metadata": {},
   "outputs": [
    {
     "data": {
      "text/html": [
       "<div><style>\n",
       ".dataframe > thead > tr,\n",
       ".dataframe > tbody > tr {\n",
       "  text-align: right;\n",
       "  white-space: pre-wrap;\n",
       "}\n",
       "</style>\n",
       "<small>shape: (5, 47)</small><table border=\"1\" class=\"dataframe\"><thead><tr><th>id</th><th>url</th><th>source</th><th>retweetCount</th><th>replyCount</th><th>likeCount</th><th>quoteCount</th><th>viewCount</th><th>createdAt</th><th>lang</th><th>bookmarkCount</th><th>isReply</th><th>isRetweet</th><th>isQuote</th><th>isConversationControlled</th><th>quoteId</th><th>inReplyToId</th><th>month_year</th><th>illuminating_scored_message</th><th>election_integrity_Truth_illuminating</th><th>advocacy_msg_type_illuminating</th><th>issue_msg_type_illuminating</th><th>attack_msg_type_illuminating</th><th>image_msg_type_illuminating</th><th>cta_msg_type_illuminating</th><th>engagement_cta_subtype_illuminating</th><th>fundraising_cta_subtype_illuminating</th><th>voting_cta_subtype_illuminating</th><th>covid_topic_illuminating</th><th>economy_topic_illuminating</th><th>education_topic_illuminating</th><th>environment_topic_illuminating</th><th>foreign_policy_topic_illuminating</th><th>governance_topic_illuminating</th><th>health_topic_illuminating</th><th>immigration_topic_illuminating</th><th>lgbtq_issues_topic_illuminating</th><th>military_topic_illuminating</th><th>race_and_ethnicity_topic_illuminating</th><th>safety_topic_illuminating</th><th>social_and_cultural_topic_illuminating</th><th>technology_and_privacy_topic_illuminating</th><th>womens_issue_topic_illuminating</th><th>incivility_illuminating</th><th>scam_illuminating</th><th>freefair_illuminating</th><th>fraud_illuminating</th></tr><tr><td>str</td><td>str</td><td>str</td><td>i64</td><td>i64</td><td>i64</td><td>i64</td><td>i64</td><td>str</td><td>str</td><td>i64</td><td>bool</td><td>bool</td><td>bool</td><td>bool</td><td>f64</td><td>f64</td><td>str</td><td>str</td><td>f64</td><td>f64</td><td>f64</td><td>f64</td><td>f64</td><td>f64</td><td>f64</td><td>f64</td><td>f64</td><td>f64</td><td>f64</td><td>f64</td><td>f64</td><td>f64</td><td>f64</td><td>f64</td><td>f64</td><td>f64</td><td>f64</td><td>f64</td><td>f64</td><td>f64</td><td>f64</td><td>f64</td><td>f64</td><td>f64</td><td>i64</td><td>i64</td></tr></thead><tbody><tr><td>&quot;cc46051622b8a9c1b883a3bbf12c64…</td><td>&quot;f70a206472e9deaf6e313297c1efb8…</td><td>&quot;Twitter for iPhone&quot;</td><td>10</td><td>37</td><td>94</td><td>2</td><td>15610</td><td>&quot;2023-09-30 14:11:00&quot;</td><td>&quot;en&quot;</td><td>0</td><td>false</td><td>false</td><td>false</td><td>false</td><td>null</td><td>null</td><td>&quot;2023-09&quot;</td><td>&quot;1876a8ce2704af06f47f4cf6c5bcad…</td><td>0.0</td><td>1.0</td><td>1.0</td><td>1.0</td><td>0.0</td><td>0.0</td><td>0.0</td><td>0.0</td><td>0.0</td><td>0.0</td><td>1.0</td><td>0.0</td><td>0.0</td><td>0.0</td><td>0.0</td><td>0.0</td><td>0.0</td><td>0.0</td><td>0.0</td><td>0.0</td><td>0.0</td><td>0.0</td><td>0.0</td><td>0.0</td><td>1.0</td><td>0.0</td><td>0</td><td>0</td></tr><tr><td>&quot;0e3db0c35a290c6df3b737d1588284…</td><td>&quot;a1962f54943732a0dc006c33b4b6f5…</td><td>&quot;Twitter for iPhone&quot;</td><td>421</td><td>1005</td><td>2697</td><td>60</td><td>158324</td><td>&quot;2023-09-29 13:27:24&quot;</td><td>&quot;en&quot;</td><td>13</td><td>false</td><td>false</td><td>false</td><td>false</td><td>null</td><td>null</td><td>&quot;2023-09&quot;</td><td>&quot;ca5cbace947a7eaae06ef2d2423ff6…</td><td>0.0</td><td>1.0</td><td>1.0</td><td>1.0</td><td>0.0</td><td>0.0</td><td>0.0</td><td>0.0</td><td>0.0</td><td>0.0</td><td>0.0</td><td>0.0</td><td>0.0</td><td>0.0</td><td>0.0</td><td>0.0</td><td>0.0</td><td>0.0</td><td>0.0</td><td>0.0</td><td>0.0</td><td>0.0</td><td>0.0</td><td>0.0</td><td>1.0</td><td>0.0</td><td>0</td><td>0</td></tr><tr><td>&quot;256905919085d2946d5d187abc6cbe…</td><td>&quot;4ddbbdb7f4d8ef62fccf3ed20c993b…</td><td>&quot;Twitter for iPhone&quot;</td><td>39</td><td>194</td><td>332</td><td>12</td><td>35535</td><td>&quot;2023-09-27 20:31:23&quot;</td><td>&quot;en&quot;</td><td>1</td><td>false</td><td>false</td><td>false</td><td>false</td><td>null</td><td>null</td><td>&quot;2023-09&quot;</td><td>&quot;ac5132800ac8301dd96b6502706c0a…</td><td>0.0</td><td>0.0</td><td>1.0</td><td>1.0</td><td>1.0</td><td>0.0</td><td>0.0</td><td>0.0</td><td>0.0</td><td>0.0</td><td>1.0</td><td>0.0</td><td>0.0</td><td>0.0</td><td>0.0</td><td>0.0</td><td>0.0</td><td>0.0</td><td>0.0</td><td>0.0</td><td>0.0</td><td>0.0</td><td>0.0</td><td>0.0</td><td>1.0</td><td>0.0</td><td>0</td><td>0</td></tr><tr><td>&quot;a461b32b31e72b222df7fdda0a8e68…</td><td>&quot;c7e729c427e714baf06d88a2856a1b…</td><td>&quot;Twitter for iPhone&quot;</td><td>47</td><td>332</td><td>427</td><td>62</td><td>199642</td><td>&quot;2023-09-26 01:52:40&quot;</td><td>&quot;en&quot;</td><td>7</td><td>false</td><td>false</td><td>false</td><td>false</td><td>null</td><td>null</td><td>&quot;2023-09&quot;</td><td>&quot;b12b8365f96e4ce77fc72599ac977a…</td><td>0.0</td><td>1.0</td><td>0.0</td><td>0.0</td><td>1.0</td><td>0.0</td><td>0.0</td><td>0.0</td><td>0.0</td><td>0.0</td><td>0.0</td><td>0.0</td><td>0.0</td><td>0.0</td><td>0.0</td><td>0.0</td><td>0.0</td><td>0.0</td><td>0.0</td><td>0.0</td><td>0.0</td><td>0.0</td><td>0.0</td><td>0.0</td><td>0.0</td><td>0.0</td><td>0</td><td>0</td></tr><tr><td>&quot;ca2795ec79d62adc1fff06c4d3bc9d…</td><td>&quot;c589bd751d7e1d275901b184087716…</td><td>&quot;Twitter Web App&quot;</td><td>17</td><td>46</td><td>106</td><td>3</td><td>17917</td><td>&quot;2023-09-21 13:24:13&quot;</td><td>&quot;en&quot;</td><td>2</td><td>false</td><td>false</td><td>false</td><td>false</td><td>null</td><td>null</td><td>&quot;2023-09&quot;</td><td>&quot;58788e34f34d8a3f530dd68d9faf79…</td><td>0.0</td><td>1.0</td><td>1.0</td><td>1.0</td><td>1.0</td><td>0.0</td><td>0.0</td><td>0.0</td><td>0.0</td><td>0.0</td><td>0.0</td><td>0.0</td><td>0.0</td><td>0.0</td><td>0.0</td><td>1.0</td><td>1.0</td><td>0.0</td><td>0.0</td><td>0.0</td><td>1.0</td><td>0.0</td><td>0.0</td><td>0.0</td><td>1.0</td><td>0.0</td><td>0</td><td>0</td></tr></tbody></table></div>"
      ],
      "text/plain": [
       "shape: (5, 47)\n",
       "┌───────────┬───────────┬───────────┬───────────┬───┬───────────┬───────────┬───────────┬──────────┐\n",
       "│ id        ┆ url       ┆ source    ┆ retweetCo ┆ … ┆ incivilit ┆ scam_illu ┆ freefair_ ┆ fraud_il │\n",
       "│ ---       ┆ ---       ┆ ---       ┆ unt       ┆   ┆ y_illumin ┆ minating  ┆ illuminat ┆ luminati │\n",
       "│ str       ┆ str       ┆ str       ┆ ---       ┆   ┆ ating     ┆ ---       ┆ ing       ┆ ng       │\n",
       "│           ┆           ┆           ┆ i64       ┆   ┆ ---       ┆ f64       ┆ ---       ┆ ---      │\n",
       "│           ┆           ┆           ┆           ┆   ┆ f64       ┆           ┆ i64       ┆ i64      │\n",
       "╞═══════════╪═══════════╪═══════════╪═══════════╪═══╪═══════════╪═══════════╪═══════════╪══════════╡\n",
       "│ cc4605162 ┆ f70a20647 ┆ Twitter   ┆ 10        ┆ … ┆ 1.0       ┆ 0.0       ┆ 0         ┆ 0        │\n",
       "│ 2b8a9c1b8 ┆ 2e9deaf6e ┆ for       ┆           ┆   ┆           ┆           ┆           ┆          │\n",
       "│ 83a3bbf12 ┆ 313297c1e ┆ iPhone    ┆           ┆   ┆           ┆           ┆           ┆          │\n",
       "│ c64…      ┆ fb8…      ┆           ┆           ┆   ┆           ┆           ┆           ┆          │\n",
       "│ 0e3db0c35 ┆ a1962f549 ┆ Twitter   ┆ 421       ┆ … ┆ 1.0       ┆ 0.0       ┆ 0         ┆ 0        │\n",
       "│ a290c6df3 ┆ 43732a0dc ┆ for       ┆           ┆   ┆           ┆           ┆           ┆          │\n",
       "│ b737d1588 ┆ 006c33b4b ┆ iPhone    ┆           ┆   ┆           ┆           ┆           ┆          │\n",
       "│ 284…      ┆ 6f5…      ┆           ┆           ┆   ┆           ┆           ┆           ┆          │\n",
       "│ 256905919 ┆ 4ddbbdb7f ┆ Twitter   ┆ 39        ┆ … ┆ 1.0       ┆ 0.0       ┆ 0         ┆ 0        │\n",
       "│ 085d2946d ┆ 4d8ef62fc ┆ for       ┆           ┆   ┆           ┆           ┆           ┆          │\n",
       "│ 5d187abc6 ┆ cf3ed20c9 ┆ iPhone    ┆           ┆   ┆           ┆           ┆           ┆          │\n",
       "│ cbe…      ┆ 93b…      ┆           ┆           ┆   ┆           ┆           ┆           ┆          │\n",
       "│ a461b32b3 ┆ c7e729c42 ┆ Twitter   ┆ 47        ┆ … ┆ 0.0       ┆ 0.0       ┆ 0         ┆ 0        │\n",
       "│ 1e72b222d ┆ 7e714baf0 ┆ for       ┆           ┆   ┆           ┆           ┆           ┆          │\n",
       "│ f7fdda0a8 ┆ 6d88a2856 ┆ iPhone    ┆           ┆   ┆           ┆           ┆           ┆          │\n",
       "│ e68…      ┆ a1b…      ┆           ┆           ┆   ┆           ┆           ┆           ┆          │\n",
       "│ ca2795ec7 ┆ c589bd751 ┆ Twitter   ┆ 17        ┆ … ┆ 1.0       ┆ 0.0       ┆ 0         ┆ 0        │\n",
       "│ 9d62adc1f ┆ d7e1d2759 ┆ Web App   ┆           ┆   ┆           ┆           ┆           ┆          │\n",
       "│ ff06c4d3b ┆ 01b184087 ┆           ┆           ┆   ┆           ┆           ┆           ┆          │\n",
       "│ c9d…      ┆ 716…      ┆           ┆           ┆   ┆           ┆           ┆           ┆          │\n",
       "└───────────┴───────────┴───────────┴───────────┴───┴───────────┴───────────┴───────────┴──────────┘"
      ]
     },
     "execution_count": 40,
     "metadata": {},
     "output_type": "execute_result"
    }
   ],
   "source": [
    "import polars as pl\n",
    "\n",
    "# Load the CSV\n",
    "df_tw = pl.read_csv(\"2024_tw_posts_president_scored_anon.csv\")\n",
    "df_tw.head()"
   ]
  },
  {
   "cell_type": "markdown",
   "id": "16bae783-9201-411b-ae37-a51c1a1628f2",
   "metadata": {},
   "source": [
    "## Indentifying numeric columns"
   ]
  },
  {
   "cell_type": "code",
   "execution_count": 42,
   "id": "10845ed1-b880-4f41-bada-f54c0c732585",
   "metadata": {},
   "outputs": [
    {
     "data": {
      "text/plain": [
       "['retweetCount',\n",
       " 'replyCount',\n",
       " 'likeCount',\n",
       " 'quoteCount',\n",
       " 'viewCount',\n",
       " 'bookmarkCount',\n",
       " 'quoteId',\n",
       " 'inReplyToId',\n",
       " 'election_integrity_Truth_illuminating',\n",
       " 'advocacy_msg_type_illuminating',\n",
       " 'issue_msg_type_illuminating',\n",
       " 'attack_msg_type_illuminating',\n",
       " 'image_msg_type_illuminating',\n",
       " 'cta_msg_type_illuminating',\n",
       " 'engagement_cta_subtype_illuminating',\n",
       " 'fundraising_cta_subtype_illuminating',\n",
       " 'voting_cta_subtype_illuminating',\n",
       " 'covid_topic_illuminating',\n",
       " 'economy_topic_illuminating',\n",
       " 'education_topic_illuminating',\n",
       " 'environment_topic_illuminating',\n",
       " 'foreign_policy_topic_illuminating',\n",
       " 'governance_topic_illuminating',\n",
       " 'health_topic_illuminating',\n",
       " 'immigration_topic_illuminating',\n",
       " 'lgbtq_issues_topic_illuminating',\n",
       " 'military_topic_illuminating',\n",
       " 'race_and_ethnicity_topic_illuminating',\n",
       " 'safety_topic_illuminating',\n",
       " 'social_and_cultural_topic_illuminating',\n",
       " 'technology_and_privacy_topic_illuminating',\n",
       " 'womens_issue_topic_illuminating',\n",
       " 'incivility_illuminating',\n",
       " 'scam_illuminating',\n",
       " 'freefair_illuminating',\n",
       " 'fraud_illuminating']"
      ]
     },
     "execution_count": 42,
     "metadata": {},
     "output_type": "execute_result"
    }
   ],
   "source": [
    "numeric_cols_tw = [\n",
    "    col for col, dtype in zip(df_tw.columns, df_tw.dtypes)\n",
    "    if dtype in (\n",
    "        pl.Int8, pl.Int16, pl.Int32, pl.Int64,\n",
    "        pl.UInt8, pl.UInt16, pl.UInt32, pl.UInt64,\n",
    "        pl.Float32, pl.Float64\n",
    "    )\n",
    "]\n",
    "numeric_cols_tw"
   ]
  },
  {
   "cell_type": "markdown",
   "id": "96e51fe8-19f3-49db-ba5f-539d0fb7c1d3",
   "metadata": {},
   "source": [
    "## Descriptive stats"
   ]
  },
  {
   "cell_type": "code",
   "execution_count": 43,
   "id": "c0373d12-1acb-4438-b306-4174c3378437",
   "metadata": {},
   "outputs": [
    {
     "data": {
      "text/html": [
       "<div><style>\n",
       ".dataframe > thead > tr,\n",
       ".dataframe > tbody > tr {\n",
       "  text-align: right;\n",
       "  white-space: pre-wrap;\n",
       "}\n",
       "</style>\n",
       "<small>shape: (216, 1)</small><table border=\"1\" class=\"dataframe\"><thead><tr><th>column_0</th></tr><tr><td>f64</td></tr></thead><tbody><tr><td>27304.0</td></tr><tr><td>27304.0</td></tr><tr><td>27304.0</td></tr><tr><td>27304.0</td></tr><tr><td>27304.0</td></tr><tr><td>&hellip;</td></tr><tr><td>1.0</td></tr><tr><td>1.0</td></tr><tr><td>1.0</td></tr><tr><td>1.0</td></tr><tr><td>1.0</td></tr></tbody></table></div>"
      ],
      "text/plain": [
       "shape: (216, 1)\n",
       "┌──────────┐\n",
       "│ column_0 │\n",
       "│ ---      │\n",
       "│ f64      │\n",
       "╞══════════╡\n",
       "│ 27304.0  │\n",
       "│ 27304.0  │\n",
       "│ 27304.0  │\n",
       "│ 27304.0  │\n",
       "│ 27304.0  │\n",
       "│ …        │\n",
       "│ 1.0      │\n",
       "│ 1.0      │\n",
       "│ 1.0      │\n",
       "│ 1.0      │\n",
       "│ 1.0      │\n",
       "└──────────┘"
      ]
     },
     "execution_count": 43,
     "metadata": {},
     "output_type": "execute_result"
    }
   ],
   "source": [
    "summary_stats_tw = df_tw.select(\n",
    "    [pl.col(col).count().alias(f\"{col}_count\") for col in numeric_cols_tw] +\n",
    "    [pl.col(col).mean().alias(f\"{col}_mean\") for col in numeric_cols_tw] +\n",
    "    [pl.col(col).median().alias(f\"{col}_median\") for col in numeric_cols_tw] +\n",
    "    [pl.col(col).std().alias(f\"{col}_std\") for col in numeric_cols_tw] +\n",
    "    [pl.col(col).min().alias(f\"{col}_min\") for col in numeric_cols_tw] +\n",
    "    [pl.col(col).max().alias(f\"{col}_max\") for col in numeric_cols_tw]\n",
    ")\n",
    "summary_stats_tw.transpose()"
   ]
  },
  {
   "cell_type": "markdown",
   "id": "7988d747-a548-4ff5-95f7-9c2cbbc15053",
   "metadata": {},
   "source": [
    "## Unique value stats"
   ]
  },
  {
   "cell_type": "code",
   "execution_count": 44,
   "id": "d6b109f9-9bf9-4a43-937d-3e3a9562b178",
   "metadata": {},
   "outputs": [
    {
     "data": {
      "text/html": [
       "<div><style>\n",
       ".dataframe > thead > tr,\n",
       ".dataframe > tbody > tr {\n",
       "  text-align: right;\n",
       "  white-space: pre-wrap;\n",
       "}\n",
       "</style>\n",
       "<small>shape: (11, 1)</small><table border=\"1\" class=\"dataframe\"><thead><tr><th>column_0</th></tr><tr><td>u32</td></tr></thead><tbody><tr><td>27304</td></tr><tr><td>27304</td></tr><tr><td>14</td></tr><tr><td>27014</td></tr><tr><td>12</td></tr><tr><td>&hellip;</td></tr><tr><td>1</td></tr><tr><td>2</td></tr><tr><td>2</td></tr><tr><td>15</td></tr><tr><td>27136</td></tr></tbody></table></div>"
      ],
      "text/plain": [
       "shape: (11, 1)\n",
       "┌──────────┐\n",
       "│ column_0 │\n",
       "│ ---      │\n",
       "│ u32      │\n",
       "╞══════════╡\n",
       "│ 27304    │\n",
       "│ 27304    │\n",
       "│ 14       │\n",
       "│ 27014    │\n",
       "│ 12       │\n",
       "│ …        │\n",
       "│ 1        │\n",
       "│ 2        │\n",
       "│ 2        │\n",
       "│ 15       │\n",
       "│ 27136    │\n",
       "└──────────┘"
      ]
     },
     "execution_count": 44,
     "metadata": {},
     "output_type": "execute_result"
    }
   ],
   "source": [
    "non_numeric_cols_tw = [col for col in df_tw.columns if col not in numeric_cols_tw]\n",
    "\n",
    "nunique_tw = df_tw.select([\n",
    "    pl.col(col).n_unique().alias(f\"{col}_nunique\") for col in non_numeric_cols_tw\n",
    "])\n",
    "nunique_tw.transpose()"
   ]
  },
  {
   "cell_type": "markdown",
   "id": "72d36114-04a8-4f95-afe4-59f4599d1e1d",
   "metadata": {},
   "source": [
    "## Mode for each column"
   ]
  },
  {
   "cell_type": "code",
   "execution_count": 51,
   "id": "bf689621-c587-472e-af3d-b5294334dc9b",
   "metadata": {},
   "outputs": [
    {
     "data": {
      "text/html": [
       "<div><style>\n",
       ".dataframe > thead > tr,\n",
       ".dataframe > tbody > tr {\n",
       "  text-align: right;\n",
       "  white-space: pre-wrap;\n",
       "}\n",
       "</style>\n",
       "<small>shape: (47, 2)</small><table border=\"1\" class=\"dataframe\"><thead><tr><th>column</th><th>mode</th></tr><tr><td>str</td><td>str</td></tr></thead><tbody><tr><td>&quot;id&quot;</td><td>&quot;e7abbca765fe1c23658d6d1b9d16e9…</td></tr><tr><td>&quot;url&quot;</td><td>&quot;614c3e2a99e6562b30b46c2fb789bf…</td></tr><tr><td>&quot;source&quot;</td><td>&quot;Twitter Web App&quot;</td></tr><tr><td>&quot;retweetCount&quot;</td><td>&quot;0&quot;</td></tr><tr><td>&quot;replyCount&quot;</td><td>&quot;1&quot;</td></tr><tr><td>&hellip;</td><td>&hellip;</td></tr><tr><td>&quot;womens_issue_topic_illuminatin…</td><td>&quot;0&quot;</td></tr><tr><td>&quot;incivility_illuminating&quot;</td><td>&quot;0&quot;</td></tr><tr><td>&quot;scam_illuminating&quot;</td><td>&quot;0&quot;</td></tr><tr><td>&quot;freefair_illuminating&quot;</td><td>&quot;0&quot;</td></tr><tr><td>&quot;fraud_illuminating&quot;</td><td>&quot;0&quot;</td></tr></tbody></table></div>"
      ],
      "text/plain": [
       "shape: (47, 2)\n",
       "┌─────────────────────────────────┬─────────────────────────────────┐\n",
       "│ column                          ┆ mode                            │\n",
       "│ ---                             ┆ ---                             │\n",
       "│ str                             ┆ str                             │\n",
       "╞═════════════════════════════════╪═════════════════════════════════╡\n",
       "│ id                              ┆ e7abbca765fe1c23658d6d1b9d16e9… │\n",
       "│ url                             ┆ 614c3e2a99e6562b30b46c2fb789bf… │\n",
       "│ source                          ┆ Twitter Web App                 │\n",
       "│ retweetCount                    ┆ 0                               │\n",
       "│ replyCount                      ┆ 1                               │\n",
       "│ …                               ┆ …                               │\n",
       "│ womens_issue_topic_illuminatin… ┆ 0                               │\n",
       "│ incivility_illuminating         ┆ 0                               │\n",
       "│ scam_illuminating               ┆ 0                               │\n",
       "│ freefair_illuminating           ┆ 0                               │\n",
       "│ fraud_illuminating              ┆ 0                               │\n",
       "└─────────────────────────────────┴─────────────────────────────────┘"
      ]
     },
     "execution_count": 51,
     "metadata": {},
     "output_type": "execute_result"
    }
   ],
   "source": [
    "import polars as pl\n",
    "\n",
    "modes_tw_cleaned = []\n",
    "\n",
    "for col in df_tw.columns:\n",
    "    try:\n",
    "        mode_df = (\n",
    "            df_tw\n",
    "            .filter(pl.col(col).is_not_null())\n",
    "            .group_by(col)\n",
    "            .agg(pl.len().alias(\"count\"))\n",
    "            .sort(\"count\", descending=True)\n",
    "        )\n",
    "        mode_val = mode_df[0, col] if mode_df.height > 0 else None\n",
    "    except Exception as e:\n",
    "        mode_val = None\n",
    "\n",
    "    modes_tw_cleaned.append((col, mode_val))\n",
    "\n",
    "df_mode_tw = pl.DataFrame(modes_tw_cleaned, schema=[\"column\", \"mode\"], orient=\"row\")\n",
    "df_mode_tw"
   ]
  },
  {
   "cell_type": "markdown",
   "id": "88e82672-ae5d-4855-921a-84d89dbc20d4",
   "metadata": {},
   "source": [
    "## GROUP BY ID"
   ]
  },
  {
   "cell_type": "code",
   "execution_count": 52,
   "id": "32343aff-f2d4-4177-b190-eceb051e0ae3",
   "metadata": {},
   "outputs": [
    {
     "data": {
      "text/html": [
       "<div><style>\n",
       ".dataframe > thead > tr,\n",
       ".dataframe > tbody > tr {\n",
       "  text-align: right;\n",
       "  white-space: pre-wrap;\n",
       "}\n",
       "</style>\n",
       "<small>shape: (5, 146)</small><table border=\"1\" class=\"dataframe\"><thead><tr><th>id</th><th>tweet_count</th><th>retweetCount_mean</th><th>replyCount_mean</th><th>likeCount_mean</th><th>quoteCount_mean</th><th>viewCount_mean</th><th>bookmarkCount_mean</th><th>quoteId_mean</th><th>inReplyToId_mean</th><th>election_integrity_Truth_illuminating_mean</th><th>advocacy_msg_type_illuminating_mean</th><th>issue_msg_type_illuminating_mean</th><th>attack_msg_type_illuminating_mean</th><th>image_msg_type_illuminating_mean</th><th>cta_msg_type_illuminating_mean</th><th>engagement_cta_subtype_illuminating_mean</th><th>fundraising_cta_subtype_illuminating_mean</th><th>voting_cta_subtype_illuminating_mean</th><th>covid_topic_illuminating_mean</th><th>economy_topic_illuminating_mean</th><th>education_topic_illuminating_mean</th><th>environment_topic_illuminating_mean</th><th>foreign_policy_topic_illuminating_mean</th><th>governance_topic_illuminating_mean</th><th>health_topic_illuminating_mean</th><th>immigration_topic_illuminating_mean</th><th>lgbtq_issues_topic_illuminating_mean</th><th>military_topic_illuminating_mean</th><th>race_and_ethnicity_topic_illuminating_mean</th><th>safety_topic_illuminating_mean</th><th>social_and_cultural_topic_illuminating_mean</th><th>technology_and_privacy_topic_illuminating_mean</th><th>womens_issue_topic_illuminating_mean</th><th>incivility_illuminating_mean</th><th>scam_illuminating_mean</th><th>freefair_illuminating_mean</th><th>&hellip;</th><th>fraud_illuminating_min</th><th>retweetCount_max</th><th>replyCount_max</th><th>likeCount_max</th><th>quoteCount_max</th><th>viewCount_max</th><th>bookmarkCount_max</th><th>quoteId_max</th><th>inReplyToId_max</th><th>election_integrity_Truth_illuminating_max</th><th>advocacy_msg_type_illuminating_max</th><th>issue_msg_type_illuminating_max</th><th>attack_msg_type_illuminating_max</th><th>image_msg_type_illuminating_max</th><th>cta_msg_type_illuminating_max</th><th>engagement_cta_subtype_illuminating_max</th><th>fundraising_cta_subtype_illuminating_max</th><th>voting_cta_subtype_illuminating_max</th><th>covid_topic_illuminating_max</th><th>economy_topic_illuminating_max</th><th>education_topic_illuminating_max</th><th>environment_topic_illuminating_max</th><th>foreign_policy_topic_illuminating_max</th><th>governance_topic_illuminating_max</th><th>health_topic_illuminating_max</th><th>immigration_topic_illuminating_max</th><th>lgbtq_issues_topic_illuminating_max</th><th>military_topic_illuminating_max</th><th>race_and_ethnicity_topic_illuminating_max</th><th>safety_topic_illuminating_max</th><th>social_and_cultural_topic_illuminating_max</th><th>technology_and_privacy_topic_illuminating_max</th><th>womens_issue_topic_illuminating_max</th><th>incivility_illuminating_max</th><th>scam_illuminating_max</th><th>freefair_illuminating_max</th><th>fraud_illuminating_max</th></tr><tr><td>str</td><td>u32</td><td>f64</td><td>f64</td><td>f64</td><td>f64</td><td>f64</td><td>f64</td><td>f64</td><td>f64</td><td>f64</td><td>f64</td><td>f64</td><td>f64</td><td>f64</td><td>f64</td><td>f64</td><td>f64</td><td>f64</td><td>f64</td><td>f64</td><td>f64</td><td>f64</td><td>f64</td><td>f64</td><td>f64</td><td>f64</td><td>f64</td><td>f64</td><td>f64</td><td>f64</td><td>f64</td><td>f64</td><td>f64</td><td>f64</td><td>f64</td><td>f64</td><td>&hellip;</td><td>i64</td><td>i64</td><td>i64</td><td>i64</td><td>i64</td><td>i64</td><td>i64</td><td>f64</td><td>f64</td><td>f64</td><td>f64</td><td>f64</td><td>f64</td><td>f64</td><td>f64</td><td>f64</td><td>f64</td><td>f64</td><td>f64</td><td>f64</td><td>f64</td><td>f64</td><td>f64</td><td>f64</td><td>f64</td><td>f64</td><td>f64</td><td>f64</td><td>f64</td><td>f64</td><td>f64</td><td>f64</td><td>f64</td><td>f64</td><td>f64</td><td>i64</td><td>i64</td></tr></thead><tbody><tr><td>&quot;6dd14542eea441476f05406c7fe2be…</td><td>1</td><td>377.0</td><td>138.0</td><td>1341.0</td><td>32.0</td><td>138261.0</td><td>68.0</td><td>null</td><td>null</td><td>0.0</td><td>0.0</td><td>1.0</td><td>1.0</td><td>0.0</td><td>0.0</td><td>0.0</td><td>0.0</td><td>0.0</td><td>0.0</td><td>0.0</td><td>0.0</td><td>0.0</td><td>0.0</td><td>0.0</td><td>1.0</td><td>0.0</td><td>0.0</td><td>0.0</td><td>0.0</td><td>0.0</td><td>1.0</td><td>0.0</td><td>1.0</td><td>0.0</td><td>0.0</td><td>0.0</td><td>&hellip;</td><td>0</td><td>377</td><td>138</td><td>1341</td><td>32</td><td>138261</td><td>68</td><td>null</td><td>null</td><td>0.0</td><td>0.0</td><td>1.0</td><td>1.0</td><td>0.0</td><td>0.0</td><td>0.0</td><td>0.0</td><td>0.0</td><td>0.0</td><td>0.0</td><td>0.0</td><td>0.0</td><td>0.0</td><td>0.0</td><td>1.0</td><td>0.0</td><td>0.0</td><td>0.0</td><td>0.0</td><td>0.0</td><td>1.0</td><td>0.0</td><td>1.0</td><td>0.0</td><td>0.0</td><td>0</td><td>0</td></tr><tr><td>&quot;b9f5188e4c7fe7c019ace6ea480d40…</td><td>1</td><td>416.0</td><td>61.0</td><td>1270.0</td><td>9.0</td><td>32298.0</td><td>17.0</td><td>null</td><td>null</td><td>0.0</td><td>1.0</td><td>1.0</td><td>0.0</td><td>0.0</td><td>0.0</td><td>0.0</td><td>0.0</td><td>0.0</td><td>0.0</td><td>1.0</td><td>0.0</td><td>0.0</td><td>0.0</td><td>0.0</td><td>0.0</td><td>1.0</td><td>0.0</td><td>0.0</td><td>0.0</td><td>0.0</td><td>0.0</td><td>0.0</td><td>0.0</td><td>1.0</td><td>0.0</td><td>0.0</td><td>&hellip;</td><td>0</td><td>416</td><td>61</td><td>1270</td><td>9</td><td>32298</td><td>17</td><td>null</td><td>null</td><td>0.0</td><td>1.0</td><td>1.0</td><td>0.0</td><td>0.0</td><td>0.0</td><td>0.0</td><td>0.0</td><td>0.0</td><td>0.0</td><td>1.0</td><td>0.0</td><td>0.0</td><td>0.0</td><td>0.0</td><td>0.0</td><td>1.0</td><td>0.0</td><td>0.0</td><td>0.0</td><td>0.0</td><td>0.0</td><td>0.0</td><td>0.0</td><td>1.0</td><td>0.0</td><td>0</td><td>0</td></tr><tr><td>&quot;32b73cdbbb64aae7d98ae47f933d3a…</td><td>1</td><td>58.0</td><td>26.0</td><td>176.0</td><td>9.0</td><td>15372.0</td><td>4.0</td><td>null</td><td>null</td><td>0.0</td><td>1.0</td><td>1.0</td><td>0.0</td><td>0.0</td><td>0.0</td><td>0.0</td><td>0.0</td><td>0.0</td><td>0.0</td><td>0.0</td><td>0.0</td><td>0.0</td><td>0.0</td><td>0.0</td><td>0.0</td><td>0.0</td><td>0.0</td><td>0.0</td><td>0.0</td><td>0.0</td><td>0.0</td><td>0.0</td><td>0.0</td><td>0.0</td><td>0.0</td><td>0.0</td><td>&hellip;</td><td>0</td><td>58</td><td>26</td><td>176</td><td>9</td><td>15372</td><td>4</td><td>null</td><td>null</td><td>0.0</td><td>1.0</td><td>1.0</td><td>0.0</td><td>0.0</td><td>0.0</td><td>0.0</td><td>0.0</td><td>0.0</td><td>0.0</td><td>0.0</td><td>0.0</td><td>0.0</td><td>0.0</td><td>0.0</td><td>0.0</td><td>0.0</td><td>0.0</td><td>0.0</td><td>0.0</td><td>0.0</td><td>0.0</td><td>0.0</td><td>0.0</td><td>0.0</td><td>0.0</td><td>0</td><td>0</td></tr><tr><td>&quot;4502f1928624332fb347ddc8292d36…</td><td>1</td><td>319.0</td><td>102.0</td><td>905.0</td><td>24.0</td><td>52900.0</td><td>49.0</td><td>null</td><td>null</td><td>0.0</td><td>1.0</td><td>0.0</td><td>1.0</td><td>1.0</td><td>0.0</td><td>0.0</td><td>0.0</td><td>0.0</td><td>0.0</td><td>0.0</td><td>0.0</td><td>0.0</td><td>0.0</td><td>0.0</td><td>0.0</td><td>0.0</td><td>0.0</td><td>0.0</td><td>0.0</td><td>0.0</td><td>0.0</td><td>0.0</td><td>0.0</td><td>0.0</td><td>0.0</td><td>0.0</td><td>&hellip;</td><td>0</td><td>319</td><td>102</td><td>905</td><td>24</td><td>52900</td><td>49</td><td>null</td><td>null</td><td>0.0</td><td>1.0</td><td>0.0</td><td>1.0</td><td>1.0</td><td>0.0</td><td>0.0</td><td>0.0</td><td>0.0</td><td>0.0</td><td>0.0</td><td>0.0</td><td>0.0</td><td>0.0</td><td>0.0</td><td>0.0</td><td>0.0</td><td>0.0</td><td>0.0</td><td>0.0</td><td>0.0</td><td>0.0</td><td>0.0</td><td>0.0</td><td>0.0</td><td>0.0</td><td>0</td><td>0</td></tr><tr><td>&quot;357cdedbf021e6317c9919b38b0f19…</td><td>1</td><td>4601.0</td><td>5328.0</td><td>24871.0</td><td>288.0</td><td>1.015185e6</td><td>89.0</td><td>null</td><td>null</td><td>0.0</td><td>1.0</td><td>1.0</td><td>1.0</td><td>0.0</td><td>0.0</td><td>0.0</td><td>0.0</td><td>0.0</td><td>0.0</td><td>1.0</td><td>0.0</td><td>0.0</td><td>0.0</td><td>0.0</td><td>0.0</td><td>0.0</td><td>0.0</td><td>0.0</td><td>0.0</td><td>0.0</td><td>0.0</td><td>0.0</td><td>0.0</td><td>0.0</td><td>0.0</td><td>0.0</td><td>&hellip;</td><td>0</td><td>4601</td><td>5328</td><td>24871</td><td>288</td><td>1015185</td><td>89</td><td>null</td><td>null</td><td>0.0</td><td>1.0</td><td>1.0</td><td>1.0</td><td>0.0</td><td>0.0</td><td>0.0</td><td>0.0</td><td>0.0</td><td>0.0</td><td>1.0</td><td>0.0</td><td>0.0</td><td>0.0</td><td>0.0</td><td>0.0</td><td>0.0</td><td>0.0</td><td>0.0</td><td>0.0</td><td>0.0</td><td>0.0</td><td>0.0</td><td>0.0</td><td>0.0</td><td>0.0</td><td>0</td><td>0</td></tr></tbody></table></div>"
      ],
      "text/plain": [
       "shape: (5, 146)\n",
       "┌───────────┬───────────┬───────────┬───────────┬───┬───────────┬───────────┬───────────┬──────────┐\n",
       "│ id        ┆ tweet_cou ┆ retweetCo ┆ replyCoun ┆ … ┆ incivilit ┆ scam_illu ┆ freefair_ ┆ fraud_il │\n",
       "│ ---       ┆ nt        ┆ unt_mean  ┆ t_mean    ┆   ┆ y_illumin ┆ minating_ ┆ illuminat ┆ luminati │\n",
       "│ str       ┆ ---       ┆ ---       ┆ ---       ┆   ┆ ating_max ┆ max       ┆ ing_max   ┆ ng_max   │\n",
       "│           ┆ u32       ┆ f64       ┆ f64       ┆   ┆ ---       ┆ ---       ┆ ---       ┆ ---      │\n",
       "│           ┆           ┆           ┆           ┆   ┆ f64       ┆ f64       ┆ i64       ┆ i64      │\n",
       "╞═══════════╪═══════════╪═══════════╪═══════════╪═══╪═══════════╪═══════════╪═══════════╪══════════╡\n",
       "│ 6dd14542e ┆ 1         ┆ 377.0     ┆ 138.0     ┆ … ┆ 0.0       ┆ 0.0       ┆ 0         ┆ 0        │\n",
       "│ ea441476f ┆           ┆           ┆           ┆   ┆           ┆           ┆           ┆          │\n",
       "│ 05406c7fe ┆           ┆           ┆           ┆   ┆           ┆           ┆           ┆          │\n",
       "│ 2be…      ┆           ┆           ┆           ┆   ┆           ┆           ┆           ┆          │\n",
       "│ b9f5188e4 ┆ 1         ┆ 416.0     ┆ 61.0      ┆ … ┆ 1.0       ┆ 0.0       ┆ 0         ┆ 0        │\n",
       "│ c7fe7c019 ┆           ┆           ┆           ┆   ┆           ┆           ┆           ┆          │\n",
       "│ ace6ea480 ┆           ┆           ┆           ┆   ┆           ┆           ┆           ┆          │\n",
       "│ d40…      ┆           ┆           ┆           ┆   ┆           ┆           ┆           ┆          │\n",
       "│ 32b73cdbb ┆ 1         ┆ 58.0      ┆ 26.0      ┆ … ┆ 0.0       ┆ 0.0       ┆ 0         ┆ 0        │\n",
       "│ b64aae7d9 ┆           ┆           ┆           ┆   ┆           ┆           ┆           ┆          │\n",
       "│ 8ae47f933 ┆           ┆           ┆           ┆   ┆           ┆           ┆           ┆          │\n",
       "│ d3a…      ┆           ┆           ┆           ┆   ┆           ┆           ┆           ┆          │\n",
       "│ 4502f1928 ┆ 1         ┆ 319.0     ┆ 102.0     ┆ … ┆ 0.0       ┆ 0.0       ┆ 0         ┆ 0        │\n",
       "│ 624332fb3 ┆           ┆           ┆           ┆   ┆           ┆           ┆           ┆          │\n",
       "│ 47ddc8292 ┆           ┆           ┆           ┆   ┆           ┆           ┆           ┆          │\n",
       "│ d36…      ┆           ┆           ┆           ┆   ┆           ┆           ┆           ┆          │\n",
       "│ 357cdedbf ┆ 1         ┆ 4601.0    ┆ 5328.0    ┆ … ┆ 0.0       ┆ 0.0       ┆ 0         ┆ 0        │\n",
       "│ 021e6317c ┆           ┆           ┆           ┆   ┆           ┆           ┆           ┆          │\n",
       "│ 9919b38b0 ┆           ┆           ┆           ┆   ┆           ┆           ┆           ┆          │\n",
       "│ f19…      ┆           ┆           ┆           ┆   ┆           ┆           ┆           ┆          │\n",
       "└───────────┴───────────┴───────────┴───────────┴───┴───────────┴───────────┴───────────┴──────────┘"
      ]
     },
     "execution_count": 52,
     "metadata": {},
     "output_type": "execute_result"
    }
   ],
   "source": [
    "grouped_by_id = (\n",
    "    df_tw\n",
    "    .group_by(\"id\")\n",
    "    .agg([\n",
    "        pl.len().alias(\"tweet_count\"),\n",
    "        *[pl.col(col).mean().alias(f\"{col}_mean\") for col in numeric_cols_tw],\n",
    "        *[pl.col(col).std().alias(f\"{col}_std\") for col in numeric_cols_tw],\n",
    "        *[pl.col(col).min().alias(f\"{col}_min\") for col in numeric_cols_tw],\n",
    "        *[pl.col(col).max().alias(f\"{col}_max\") for col in numeric_cols_tw]\n",
    "    ])\n",
    ")\n",
    "\n",
    "grouped_by_id.head()"
   ]
  },
  {
   "cell_type": "markdown",
   "id": "41a6b106-0a9e-49e0-ace5-0ac0eb5040e9",
   "metadata": {},
   "source": [
    "## Group by language and retweet"
   ]
  },
  {
   "cell_type": "code",
   "execution_count": 53,
   "id": "1ce7a341-a944-498a-b314-7f85ad48d346",
   "metadata": {},
   "outputs": [
    {
     "data": {
      "text/html": [
       "<div><style>\n",
       ".dataframe > thead > tr,\n",
       ".dataframe > tbody > tr {\n",
       "  text-align: right;\n",
       "  white-space: pre-wrap;\n",
       "}\n",
       "</style>\n",
       "<small>shape: (5, 147)</small><table border=\"1\" class=\"dataframe\"><thead><tr><th>lang</th><th>isRetweet</th><th>post_count</th><th>retweetCount_mean</th><th>replyCount_mean</th><th>likeCount_mean</th><th>quoteCount_mean</th><th>viewCount_mean</th><th>bookmarkCount_mean</th><th>quoteId_mean</th><th>inReplyToId_mean</th><th>election_integrity_Truth_illuminating_mean</th><th>advocacy_msg_type_illuminating_mean</th><th>issue_msg_type_illuminating_mean</th><th>attack_msg_type_illuminating_mean</th><th>image_msg_type_illuminating_mean</th><th>cta_msg_type_illuminating_mean</th><th>engagement_cta_subtype_illuminating_mean</th><th>fundraising_cta_subtype_illuminating_mean</th><th>voting_cta_subtype_illuminating_mean</th><th>covid_topic_illuminating_mean</th><th>economy_topic_illuminating_mean</th><th>education_topic_illuminating_mean</th><th>environment_topic_illuminating_mean</th><th>foreign_policy_topic_illuminating_mean</th><th>governance_topic_illuminating_mean</th><th>health_topic_illuminating_mean</th><th>immigration_topic_illuminating_mean</th><th>lgbtq_issues_topic_illuminating_mean</th><th>military_topic_illuminating_mean</th><th>race_and_ethnicity_topic_illuminating_mean</th><th>safety_topic_illuminating_mean</th><th>social_and_cultural_topic_illuminating_mean</th><th>technology_and_privacy_topic_illuminating_mean</th><th>womens_issue_topic_illuminating_mean</th><th>incivility_illuminating_mean</th><th>scam_illuminating_mean</th><th>&hellip;</th><th>fraud_illuminating_min</th><th>retweetCount_max</th><th>replyCount_max</th><th>likeCount_max</th><th>quoteCount_max</th><th>viewCount_max</th><th>bookmarkCount_max</th><th>quoteId_max</th><th>inReplyToId_max</th><th>election_integrity_Truth_illuminating_max</th><th>advocacy_msg_type_illuminating_max</th><th>issue_msg_type_illuminating_max</th><th>attack_msg_type_illuminating_max</th><th>image_msg_type_illuminating_max</th><th>cta_msg_type_illuminating_max</th><th>engagement_cta_subtype_illuminating_max</th><th>fundraising_cta_subtype_illuminating_max</th><th>voting_cta_subtype_illuminating_max</th><th>covid_topic_illuminating_max</th><th>economy_topic_illuminating_max</th><th>education_topic_illuminating_max</th><th>environment_topic_illuminating_max</th><th>foreign_policy_topic_illuminating_max</th><th>governance_topic_illuminating_max</th><th>health_topic_illuminating_max</th><th>immigration_topic_illuminating_max</th><th>lgbtq_issues_topic_illuminating_max</th><th>military_topic_illuminating_max</th><th>race_and_ethnicity_topic_illuminating_max</th><th>safety_topic_illuminating_max</th><th>social_and_cultural_topic_illuminating_max</th><th>technology_and_privacy_topic_illuminating_max</th><th>womens_issue_topic_illuminating_max</th><th>incivility_illuminating_max</th><th>scam_illuminating_max</th><th>freefair_illuminating_max</th><th>fraud_illuminating_max</th></tr><tr><td>str</td><td>bool</td><td>u32</td><td>f64</td><td>f64</td><td>f64</td><td>f64</td><td>f64</td><td>f64</td><td>f64</td><td>f64</td><td>f64</td><td>f64</td><td>f64</td><td>f64</td><td>f64</td><td>f64</td><td>f64</td><td>f64</td><td>f64</td><td>f64</td><td>f64</td><td>f64</td><td>f64</td><td>f64</td><td>f64</td><td>f64</td><td>f64</td><td>f64</td><td>f64</td><td>f64</td><td>f64</td><td>f64</td><td>f64</td><td>f64</td><td>f64</td><td>f64</td><td>&hellip;</td><td>i64</td><td>i64</td><td>i64</td><td>i64</td><td>i64</td><td>i64</td><td>i64</td><td>f64</td><td>f64</td><td>f64</td><td>f64</td><td>f64</td><td>f64</td><td>f64</td><td>f64</td><td>f64</td><td>f64</td><td>f64</td><td>f64</td><td>f64</td><td>f64</td><td>f64</td><td>f64</td><td>f64</td><td>f64</td><td>f64</td><td>f64</td><td>f64</td><td>f64</td><td>f64</td><td>f64</td><td>f64</td><td>f64</td><td>f64</td><td>f64</td><td>i64</td><td>i64</td></tr></thead><tbody><tr><td>&quot;en&quot;</td><td>false</td><td>27281</td><td>1322.428833</td><td>1064.435431</td><td>6913.519886</td><td>128.15531</td><td>507323.401525</td><td>136.269528</td><td>1.7643e18</td><td>1.7583e18</td><td>0.037172</td><td>0.564042</td><td>0.508034</td><td>0.307834</td><td>0.226609</td><td>0.10971</td><td>0.066964</td><td>0.00788</td><td>0.01676</td><td>0.007611</td><td>0.160337</td><td>0.018452</td><td>0.028562</td><td>0.042285</td><td>0.022988</td><td>0.055701</td><td>0.065349</td><td>0.003075</td><td>0.010994</td><td>0.015415</td><td>0.037634</td><td>0.05201</td><td>0.002037</td><td>0.023334</td><td>0.178711</td><td>0.012378</td><td>&hellip;</td><td>0</td><td>144615</td><td>121270</td><td>915221</td><td>123320</td><td>333502775</td><td>42693</td><td>1.8536e18</td><td>1.8535e18</td><td>1.0</td><td>1.0</td><td>1.0</td><td>1.0</td><td>1.0</td><td>1.0</td><td>1.0</td><td>1.0</td><td>1.0</td><td>1.0</td><td>1.0</td><td>1.0</td><td>1.0</td><td>1.0</td><td>1.0</td><td>1.0</td><td>1.0</td><td>1.0</td><td>1.0</td><td>1.0</td><td>1.0</td><td>1.0</td><td>1.0</td><td>1.0</td><td>1.0</td><td>1.0</td><td>1</td><td>1</td></tr><tr><td>&quot;pt&quot;</td><td>false</td><td>1</td><td>522.0</td><td>606.0</td><td>2537.0</td><td>84.0</td><td>153972.0</td><td>90.0</td><td>null</td><td>null</td><td>0.0</td><td>0.0</td><td>0.0</td><td>0.0</td><td>0.0</td><td>0.0</td><td>0.0</td><td>0.0</td><td>0.0</td><td>0.0</td><td>0.0</td><td>0.0</td><td>0.0</td><td>0.0</td><td>0.0</td><td>0.0</td><td>0.0</td><td>0.0</td><td>0.0</td><td>0.0</td><td>0.0</td><td>0.0</td><td>0.0</td><td>0.0</td><td>0.0</td><td>0.0</td><td>&hellip;</td><td>0</td><td>522</td><td>606</td><td>2537</td><td>84</td><td>153972</td><td>90</td><td>null</td><td>null</td><td>0.0</td><td>0.0</td><td>0.0</td><td>0.0</td><td>0.0</td><td>0.0</td><td>0.0</td><td>0.0</td><td>0.0</td><td>0.0</td><td>0.0</td><td>0.0</td><td>0.0</td><td>0.0</td><td>0.0</td><td>0.0</td><td>0.0</td><td>0.0</td><td>0.0</td><td>0.0</td><td>0.0</td><td>0.0</td><td>0.0</td><td>0.0</td><td>0.0</td><td>0.0</td><td>0</td><td>0</td></tr><tr><td>&quot;in&quot;</td><td>false</td><td>1</td><td>0.0</td><td>0.0</td><td>2.0</td><td>0.0</td><td>109.0</td><td>0.0</td><td>null</td><td>1.7260e18</td><td>0.0</td><td>0.0</td><td>0.0</td><td>0.0</td><td>0.0</td><td>0.0</td><td>0.0</td><td>0.0</td><td>0.0</td><td>0.0</td><td>0.0</td><td>0.0</td><td>0.0</td><td>0.0</td><td>0.0</td><td>0.0</td><td>0.0</td><td>0.0</td><td>0.0</td><td>0.0</td><td>0.0</td><td>0.0</td><td>0.0</td><td>0.0</td><td>0.0</td><td>0.0</td><td>&hellip;</td><td>0</td><td>0</td><td>0</td><td>2</td><td>0</td><td>109</td><td>0</td><td>null</td><td>1.7260e18</td><td>0.0</td><td>0.0</td><td>0.0</td><td>0.0</td><td>0.0</td><td>0.0</td><td>0.0</td><td>0.0</td><td>0.0</td><td>0.0</td><td>0.0</td><td>0.0</td><td>0.0</td><td>0.0</td><td>0.0</td><td>0.0</td><td>0.0</td><td>0.0</td><td>0.0</td><td>0.0</td><td>0.0</td><td>0.0</td><td>0.0</td><td>0.0</td><td>0.0</td><td>0.0</td><td>0</td><td>0</td></tr><tr><td>&quot;tr&quot;</td><td>false</td><td>1</td><td>2303.0</td><td>387.0</td><td>14433.0</td><td>171.0</td><td>434191.0</td><td>364.0</td><td>null</td><td>null</td><td>0.0</td><td>0.0</td><td>0.0</td><td>0.0</td><td>0.0</td><td>0.0</td><td>0.0</td><td>0.0</td><td>0.0</td><td>0.0</td><td>0.0</td><td>0.0</td><td>0.0</td><td>0.0</td><td>0.0</td><td>0.0</td><td>0.0</td><td>0.0</td><td>0.0</td><td>0.0</td><td>0.0</td><td>0.0</td><td>0.0</td><td>0.0</td><td>0.0</td><td>0.0</td><td>&hellip;</td><td>0</td><td>2303</td><td>387</td><td>14433</td><td>171</td><td>434191</td><td>364</td><td>null</td><td>null</td><td>0.0</td><td>0.0</td><td>0.0</td><td>0.0</td><td>0.0</td><td>0.0</td><td>0.0</td><td>0.0</td><td>0.0</td><td>0.0</td><td>0.0</td><td>0.0</td><td>0.0</td><td>0.0</td><td>0.0</td><td>0.0</td><td>0.0</td><td>0.0</td><td>0.0</td><td>0.0</td><td>0.0</td><td>0.0</td><td>0.0</td><td>0.0</td><td>0.0</td><td>0.0</td><td>0</td><td>0</td></tr><tr><td>&quot;pl&quot;</td><td>false</td><td>1</td><td>178.0</td><td>98.0</td><td>507.0</td><td>26.0</td><td>69531.0</td><td>19.0</td><td>null</td><td>1.7099e18</td><td>0.0</td><td>0.0</td><td>0.0</td><td>0.0</td><td>0.0</td><td>0.0</td><td>0.0</td><td>0.0</td><td>0.0</td><td>0.0</td><td>0.0</td><td>0.0</td><td>0.0</td><td>0.0</td><td>0.0</td><td>0.0</td><td>0.0</td><td>0.0</td><td>0.0</td><td>0.0</td><td>0.0</td><td>0.0</td><td>0.0</td><td>0.0</td><td>0.0</td><td>0.0</td><td>&hellip;</td><td>0</td><td>178</td><td>98</td><td>507</td><td>26</td><td>69531</td><td>19</td><td>null</td><td>1.7099e18</td><td>0.0</td><td>0.0</td><td>0.0</td><td>0.0</td><td>0.0</td><td>0.0</td><td>0.0</td><td>0.0</td><td>0.0</td><td>0.0</td><td>0.0</td><td>0.0</td><td>0.0</td><td>0.0</td><td>0.0</td><td>0.0</td><td>0.0</td><td>0.0</td><td>0.0</td><td>0.0</td><td>0.0</td><td>0.0</td><td>0.0</td><td>0.0</td><td>0.0</td><td>0.0</td><td>0</td><td>0</td></tr></tbody></table></div>"
      ],
      "text/plain": [
       "shape: (5, 147)\n",
       "┌──────┬───────────┬────────────┬────────────┬───┬────────────┬────────────┬───────────┬───────────┐\n",
       "│ lang ┆ isRetweet ┆ post_count ┆ retweetCou ┆ … ┆ incivility ┆ scam_illum ┆ freefair_ ┆ fraud_ill │\n",
       "│ ---  ┆ ---       ┆ ---        ┆ nt_mean    ┆   ┆ _illuminat ┆ inating_ma ┆ illuminat ┆ uminating │\n",
       "│ str  ┆ bool      ┆ u32        ┆ ---        ┆   ┆ ing_max    ┆ x          ┆ ing_max   ┆ _max      │\n",
       "│      ┆           ┆            ┆ f64        ┆   ┆ ---        ┆ ---        ┆ ---       ┆ ---       │\n",
       "│      ┆           ┆            ┆            ┆   ┆ f64        ┆ f64        ┆ i64       ┆ i64       │\n",
       "╞══════╪═══════════╪════════════╪════════════╪═══╪════════════╪════════════╪═══════════╪═══════════╡\n",
       "│ en   ┆ false     ┆ 27281      ┆ 1322.42883 ┆ … ┆ 1.0        ┆ 1.0        ┆ 1         ┆ 1         │\n",
       "│      ┆           ┆            ┆ 3          ┆   ┆            ┆            ┆           ┆           │\n",
       "│ pt   ┆ false     ┆ 1          ┆ 522.0      ┆ … ┆ 0.0        ┆ 0.0        ┆ 0         ┆ 0         │\n",
       "│ in   ┆ false     ┆ 1          ┆ 0.0        ┆ … ┆ 0.0        ┆ 0.0        ┆ 0         ┆ 0         │\n",
       "│ tr   ┆ false     ┆ 1          ┆ 2303.0     ┆ … ┆ 0.0        ┆ 0.0        ┆ 0         ┆ 0         │\n",
       "│ pl   ┆ false     ┆ 1          ┆ 178.0      ┆ … ┆ 0.0        ┆ 0.0        ┆ 0         ┆ 0         │\n",
       "└──────┴───────────┴────────────┴────────────┴───┴────────────┴────────────┴───────────┴───────────┘"
      ]
     },
     "execution_count": 53,
     "metadata": {},
     "output_type": "execute_result"
    }
   ],
   "source": [
    "# Identify numeric columns (if not already done)\n",
    "numeric_cols_tw = [col for col, dtype in zip(df_tw.columns, df_tw.dtypes)\n",
    "                   if dtype in (pl.Int8, pl.Int16, pl.Int32, pl.Int64,\n",
    "                                pl.UInt8, pl.UInt16, pl.UInt32, pl.UInt64,\n",
    "                                pl.Float32, pl.Float64)]\n",
    "\n",
    "# Group by two columns and calculate descriptive stats\n",
    "grouped_tw = (\n",
    "    df_tw\n",
    "    .group_by([\"lang\", \"isRetweet\"])\n",
    "    .agg([\n",
    "        pl.len().alias(\"post_count\"),\n",
    "        *[pl.col(col).mean().alias(f\"{col}_mean\") for col in numeric_cols_tw],\n",
    "        *[pl.col(col).std().alias(f\"{col}_std\") for col in numeric_cols_tw],\n",
    "        *[pl.col(col).min().alias(f\"{col}_min\") for col in numeric_cols_tw],\n",
    "        *[pl.col(col).max().alias(f\"{col}_max\") for col in numeric_cols_tw]\n",
    "    ])\n",
    ")\n",
    "\n",
    "grouped_tw.head()"
   ]
  },
  {
   "cell_type": "code",
   "execution_count": null,
   "id": "deea54ae-6f2a-4511-bbe8-72d5bdae3580",
   "metadata": {},
   "outputs": [],
   "source": []
  }
 ],
 "metadata": {
  "kernelspec": {
   "display_name": "Python 3 (ipykernel)",
   "language": "python",
   "name": "python3"
  },
  "language_info": {
   "codemirror_mode": {
    "name": "ipython",
    "version": 3
   },
   "file_extension": ".py",
   "mimetype": "text/x-python",
   "name": "python",
   "nbconvert_exporter": "python",
   "pygments_lexer": "ipython3",
   "version": "3.13.5"
  }
 },
 "nbformat": 4,
 "nbformat_minor": 5
}
